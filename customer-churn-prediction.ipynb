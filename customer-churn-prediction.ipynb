{
 "cells": [
  {
   "cell_type": "code",
   "execution_count": 1,
   "id": "79cd2c07",
   "metadata": {
    "_cell_guid": "b1076dfc-b9ad-4769-8c92-a6c4dae69d19",
    "_uuid": "8f2839f25d086af736a60e9eeb907d3b93b6e0e5",
    "execution": {
     "iopub.execute_input": "2025-06-19T08:42:34.826691Z",
     "iopub.status.busy": "2025-06-19T08:42:34.826336Z",
     "iopub.status.idle": "2025-06-19T08:42:36.736305Z",
     "shell.execute_reply": "2025-06-19T08:42:36.735138Z"
    },
    "papermill": {
     "duration": 1.922841,
     "end_time": "2025-06-19T08:42:36.737972",
     "exception": false,
     "start_time": "2025-06-19T08:42:34.815131",
     "status": "completed"
    },
    "tags": []
   },
   "outputs": [
    {
     "name": "stdout",
     "output_type": "stream",
     "text": [
      "/kaggle/input/credit-card-customer-churn-prediction/Churn_Modelling.csv\n"
     ]
    }
   ],
   "source": [
    "# This Python 3 environment comes with many helpful analytics libraries installed\n",
    "# It is defined by the kaggle/python Docker image: https://github.com/kaggle/docker-python\n",
    "# For example, here's several helpful packages to load\n",
    "\n",
    "import numpy as np # linear algebra\n",
    "import pandas as pd # data processing, CSV file I/O (e.g. pd.read_csv)\n",
    "\n",
    "# Input data files are available in the read-only \"../input/\" directory\n",
    "# For example, running this (by clicking run or pressing Shift+Enter) will list all files under the input directory\n",
    "\n",
    "import os\n",
    "for dirname, _, filenames in os.walk('/kaggle/input'):\n",
    "    for filename in filenames:\n",
    "        print(os.path.join(dirname, filename))\n",
    "\n",
    "# You can write up to 20GB to the current directory (/kaggle/working/) that gets preserved as output when you create a version using \"Save & Run All\" \n",
    "# You can also write temporary files to /kaggle/temp/, but they won't be saved outside of the current session"
   ]
  },
  {
   "cell_type": "code",
   "execution_count": 2,
   "id": "ab0ddf98",
   "metadata": {
    "execution": {
     "iopub.execute_input": "2025-06-19T08:42:36.757169Z",
     "iopub.status.busy": "2025-06-19T08:42:36.756779Z",
     "iopub.status.idle": "2025-06-19T08:42:36.807492Z",
     "shell.execute_reply": "2025-06-19T08:42:36.806650Z"
    },
    "papermill": {
     "duration": 0.061841,
     "end_time": "2025-06-19T08:42:36.809095",
     "exception": false,
     "start_time": "2025-06-19T08:42:36.747254",
     "status": "completed"
    },
    "tags": []
   },
   "outputs": [],
   "source": [
    "df = pd.read_csv('/kaggle/input/credit-card-customer-churn-prediction/Churn_Modelling.csv')"
   ]
  },
  {
   "cell_type": "code",
   "execution_count": 3,
   "id": "75a70811",
   "metadata": {
    "execution": {
     "iopub.execute_input": "2025-06-19T08:42:36.828557Z",
     "iopub.status.busy": "2025-06-19T08:42:36.828203Z",
     "iopub.status.idle": "2025-06-19T08:42:36.856669Z",
     "shell.execute_reply": "2025-06-19T08:42:36.855700Z"
    },
    "papermill": {
     "duration": 0.039994,
     "end_time": "2025-06-19T08:42:36.858107",
     "exception": false,
     "start_time": "2025-06-19T08:42:36.818113",
     "status": "completed"
    },
    "tags": []
   },
   "outputs": [
    {
     "data": {
      "text/html": [
       "<div>\n",
       "<style scoped>\n",
       "    .dataframe tbody tr th:only-of-type {\n",
       "        vertical-align: middle;\n",
       "    }\n",
       "\n",
       "    .dataframe tbody tr th {\n",
       "        vertical-align: top;\n",
       "    }\n",
       "\n",
       "    .dataframe thead th {\n",
       "        text-align: right;\n",
       "    }\n",
       "</style>\n",
       "<table border=\"1\" class=\"dataframe\">\n",
       "  <thead>\n",
       "    <tr style=\"text-align: right;\">\n",
       "      <th></th>\n",
       "      <th>RowNumber</th>\n",
       "      <th>CustomerId</th>\n",
       "      <th>Surname</th>\n",
       "      <th>CreditScore</th>\n",
       "      <th>Geography</th>\n",
       "      <th>Gender</th>\n",
       "      <th>Age</th>\n",
       "      <th>Tenure</th>\n",
       "      <th>Balance</th>\n",
       "      <th>NumOfProducts</th>\n",
       "      <th>HasCrCard</th>\n",
       "      <th>IsActiveMember</th>\n",
       "      <th>EstimatedSalary</th>\n",
       "      <th>Exited</th>\n",
       "    </tr>\n",
       "  </thead>\n",
       "  <tbody>\n",
       "    <tr>\n",
       "      <th>0</th>\n",
       "      <td>1</td>\n",
       "      <td>15634602</td>\n",
       "      <td>Hargrave</td>\n",
       "      <td>619</td>\n",
       "      <td>France</td>\n",
       "      <td>Female</td>\n",
       "      <td>42</td>\n",
       "      <td>2</td>\n",
       "      <td>0.00</td>\n",
       "      <td>1</td>\n",
       "      <td>1</td>\n",
       "      <td>1</td>\n",
       "      <td>101348.88</td>\n",
       "      <td>1</td>\n",
       "    </tr>\n",
       "    <tr>\n",
       "      <th>1</th>\n",
       "      <td>2</td>\n",
       "      <td>15647311</td>\n",
       "      <td>Hill</td>\n",
       "      <td>608</td>\n",
       "      <td>Spain</td>\n",
       "      <td>Female</td>\n",
       "      <td>41</td>\n",
       "      <td>1</td>\n",
       "      <td>83807.86</td>\n",
       "      <td>1</td>\n",
       "      <td>0</td>\n",
       "      <td>1</td>\n",
       "      <td>112542.58</td>\n",
       "      <td>0</td>\n",
       "    </tr>\n",
       "    <tr>\n",
       "      <th>2</th>\n",
       "      <td>3</td>\n",
       "      <td>15619304</td>\n",
       "      <td>Onio</td>\n",
       "      <td>502</td>\n",
       "      <td>France</td>\n",
       "      <td>Female</td>\n",
       "      <td>42</td>\n",
       "      <td>8</td>\n",
       "      <td>159660.80</td>\n",
       "      <td>3</td>\n",
       "      <td>1</td>\n",
       "      <td>0</td>\n",
       "      <td>113931.57</td>\n",
       "      <td>1</td>\n",
       "    </tr>\n",
       "    <tr>\n",
       "      <th>3</th>\n",
       "      <td>4</td>\n",
       "      <td>15701354</td>\n",
       "      <td>Boni</td>\n",
       "      <td>699</td>\n",
       "      <td>France</td>\n",
       "      <td>Female</td>\n",
       "      <td>39</td>\n",
       "      <td>1</td>\n",
       "      <td>0.00</td>\n",
       "      <td>2</td>\n",
       "      <td>0</td>\n",
       "      <td>0</td>\n",
       "      <td>93826.63</td>\n",
       "      <td>0</td>\n",
       "    </tr>\n",
       "    <tr>\n",
       "      <th>4</th>\n",
       "      <td>5</td>\n",
       "      <td>15737888</td>\n",
       "      <td>Mitchell</td>\n",
       "      <td>850</td>\n",
       "      <td>Spain</td>\n",
       "      <td>Female</td>\n",
       "      <td>43</td>\n",
       "      <td>2</td>\n",
       "      <td>125510.82</td>\n",
       "      <td>1</td>\n",
       "      <td>1</td>\n",
       "      <td>1</td>\n",
       "      <td>79084.10</td>\n",
       "      <td>0</td>\n",
       "    </tr>\n",
       "  </tbody>\n",
       "</table>\n",
       "</div>"
      ],
      "text/plain": [
       "   RowNumber  CustomerId   Surname  CreditScore Geography  Gender  Age  \\\n",
       "0          1    15634602  Hargrave          619    France  Female   42   \n",
       "1          2    15647311      Hill          608     Spain  Female   41   \n",
       "2          3    15619304      Onio          502    France  Female   42   \n",
       "3          4    15701354      Boni          699    France  Female   39   \n",
       "4          5    15737888  Mitchell          850     Spain  Female   43   \n",
       "\n",
       "   Tenure    Balance  NumOfProducts  HasCrCard  IsActiveMember  \\\n",
       "0       2       0.00              1          1               1   \n",
       "1       1   83807.86              1          0               1   \n",
       "2       8  159660.80              3          1               0   \n",
       "3       1       0.00              2          0               0   \n",
       "4       2  125510.82              1          1               1   \n",
       "\n",
       "   EstimatedSalary  Exited  \n",
       "0        101348.88       1  \n",
       "1        112542.58       0  \n",
       "2        113931.57       1  \n",
       "3         93826.63       0  \n",
       "4         79084.10       0  "
      ]
     },
     "execution_count": 3,
     "metadata": {},
     "output_type": "execute_result"
    }
   ],
   "source": [
    "df.head(5)"
   ]
  },
  {
   "cell_type": "markdown",
   "id": "c9fcfa8d",
   "metadata": {
    "papermill": {
     "duration": 0.008709,
     "end_time": "2025-06-19T08:42:36.875947",
     "exception": false,
     "start_time": "2025-06-19T08:42:36.867238",
     "status": "completed"
    },
    "tags": []
   },
   "source": [
    "Here’s what each column in your dataset likely represents (common in customer churn datasets like Telco or bank customer data):\n",
    "\n",
    "| Column Name         | Description                                                                                             |\n",
    "| ------------------- | ------------------------------------------------------------------------------------------------------- |\n",
    "| **RowNumber**       | Row index or serial number for identification (not useful for analysis).                                |\n",
    "| **CustomerId**      | Unique ID for the customer (used to identify customers).                                                |\n",
    "| **Surname**         | Customer's last name (generally not useful for modeling unless doing specific name-based analysis).     |\n",
    "| **CreditScore**     | A score indicating the customer's creditworthiness. Higher usually means lower risk.                    |\n",
    "| **Geography**       | Country or region where the customer resides (e.g., France, Germany, Spain).                            |\n",
    "| **Gender**          | Customer's gender (e.g., Male/Female).                                                                  |\n",
    "| **Age**             | Age of the customer.                                                                                    |\n",
    "| **Tenure**          | Number of years the customer has been with the bank.                                                    |\n",
    "| **Balance**         | Account balance (amount of money the customer has in the bank).                                         |\n",
    "| **NumOfProducts**   | Number of bank products the customer is using (e.g., credit card, loan, savings account).               |\n",
    "| **HasCrCard**       | Whether the customer has a credit card (1 = Yes, 0 = No).                                               |\n",
    "| **IsActiveMember**  | Whether the customer is active (1 = Yes, 0 = No).                                                       |\n",
    "| **EstimatedSalary** | Estimated annual salary of the customer.                                                                |\n",
    "| **Exited**          | Target variable. Indicates whether the customer has left the bank (1 = Yes, churned; 0 = No, retained). |\n",
    "\n",
    "Would you like help preparing this dataset for machine learning (e.g., preprocessing, encoding, etc.)?\n"
   ]
  },
  {
   "cell_type": "code",
   "execution_count": 4,
   "id": "20169f05",
   "metadata": {
    "execution": {
     "iopub.execute_input": "2025-06-19T08:42:36.895591Z",
     "iopub.status.busy": "2025-06-19T08:42:36.895247Z",
     "iopub.status.idle": "2025-06-19T08:42:36.923981Z",
     "shell.execute_reply": "2025-06-19T08:42:36.922803Z"
    },
    "papermill": {
     "duration": 0.041689,
     "end_time": "2025-06-19T08:42:36.926526",
     "exception": false,
     "start_time": "2025-06-19T08:42:36.884837",
     "status": "completed"
    },
    "tags": []
   },
   "outputs": [
    {
     "name": "stdout",
     "output_type": "stream",
     "text": [
      "<class 'pandas.core.frame.DataFrame'>\n",
      "RangeIndex: 10000 entries, 0 to 9999\n",
      "Data columns (total 14 columns):\n",
      " #   Column           Non-Null Count  Dtype  \n",
      "---  ------           --------------  -----  \n",
      " 0   RowNumber        10000 non-null  int64  \n",
      " 1   CustomerId       10000 non-null  int64  \n",
      " 2   Surname          10000 non-null  object \n",
      " 3   CreditScore      10000 non-null  int64  \n",
      " 4   Geography        10000 non-null  object \n",
      " 5   Gender           10000 non-null  object \n",
      " 6   Age              10000 non-null  int64  \n",
      " 7   Tenure           10000 non-null  int64  \n",
      " 8   Balance          10000 non-null  float64\n",
      " 9   NumOfProducts    10000 non-null  int64  \n",
      " 10  HasCrCard        10000 non-null  int64  \n",
      " 11  IsActiveMember   10000 non-null  int64  \n",
      " 12  EstimatedSalary  10000 non-null  float64\n",
      " 13  Exited           10000 non-null  int64  \n",
      "dtypes: float64(2), int64(9), object(3)\n",
      "memory usage: 1.1+ MB\n"
     ]
    }
   ],
   "source": [
    "df.info()"
   ]
  },
  {
   "cell_type": "code",
   "execution_count": 5,
   "id": "6805ca52",
   "metadata": {
    "execution": {
     "iopub.execute_input": "2025-06-19T08:42:36.948640Z",
     "iopub.status.busy": "2025-06-19T08:42:36.948309Z",
     "iopub.status.idle": "2025-06-19T08:42:36.961800Z",
     "shell.execute_reply": "2025-06-19T08:42:36.960930Z"
    },
    "papermill": {
     "duration": 0.026243,
     "end_time": "2025-06-19T08:42:36.963323",
     "exception": false,
     "start_time": "2025-06-19T08:42:36.937080",
     "status": "completed"
    },
    "tags": []
   },
   "outputs": [
    {
     "data": {
      "text/plain": [
       "0"
      ]
     },
     "execution_count": 5,
     "metadata": {},
     "output_type": "execute_result"
    }
   ],
   "source": [
    "df.duplicated().sum()\n"
   ]
  },
  {
   "cell_type": "code",
   "execution_count": 6,
   "id": "7851a204",
   "metadata": {
    "execution": {
     "iopub.execute_input": "2025-06-19T08:42:36.983226Z",
     "iopub.status.busy": "2025-06-19T08:42:36.982955Z",
     "iopub.status.idle": "2025-06-19T08:42:36.991246Z",
     "shell.execute_reply": "2025-06-19T08:42:36.990464Z"
    },
    "papermill": {
     "duration": 0.020218,
     "end_time": "2025-06-19T08:42:36.992702",
     "exception": false,
     "start_time": "2025-06-19T08:42:36.972484",
     "status": "completed"
    },
    "tags": []
   },
   "outputs": [
    {
     "data": {
      "text/plain": [
       "Exited\n",
       "0    7963\n",
       "1    2037\n",
       "Name: count, dtype: int64"
      ]
     },
     "execution_count": 6,
     "metadata": {},
     "output_type": "execute_result"
    }
   ],
   "source": [
    "df['Exited'].value_counts()\n",
    "#look lke but we have to just learn how deep learning works here ,"
   ]
  },
  {
   "cell_type": "code",
   "execution_count": 7,
   "id": "a3d2bff5",
   "metadata": {
    "execution": {
     "iopub.execute_input": "2025-06-19T08:42:37.012391Z",
     "iopub.status.busy": "2025-06-19T08:42:37.012109Z",
     "iopub.status.idle": "2025-06-19T08:42:37.019699Z",
     "shell.execute_reply": "2025-06-19T08:42:37.018926Z"
    },
    "papermill": {
     "duration": 0.019034,
     "end_time": "2025-06-19T08:42:37.021031",
     "exception": false,
     "start_time": "2025-06-19T08:42:37.001997",
     "status": "completed"
    },
    "tags": []
   },
   "outputs": [
    {
     "data": {
      "text/plain": [
       "Geography\n",
       "France     5014\n",
       "Germany    2509\n",
       "Spain      2477\n",
       "Name: count, dtype: int64"
      ]
     },
     "execution_count": 7,
     "metadata": {},
     "output_type": "execute_result"
    }
   ],
   "source": [
    "df['Geography'].value_counts()"
   ]
  },
  {
   "cell_type": "code",
   "execution_count": 8,
   "id": "2c0be056",
   "metadata": {
    "execution": {
     "iopub.execute_input": "2025-06-19T08:42:37.041609Z",
     "iopub.status.busy": "2025-06-19T08:42:37.041065Z",
     "iopub.status.idle": "2025-06-19T08:42:37.049113Z",
     "shell.execute_reply": "2025-06-19T08:42:37.048263Z"
    },
    "papermill": {
     "duration": 0.020162,
     "end_time": "2025-06-19T08:42:37.050551",
     "exception": false,
     "start_time": "2025-06-19T08:42:37.030389",
     "status": "completed"
    },
    "tags": []
   },
   "outputs": [
    {
     "data": {
      "text/plain": [
       "Gender\n",
       "Male      5457\n",
       "Female    4543\n",
       "Name: count, dtype: int64"
      ]
     },
     "execution_count": 8,
     "metadata": {},
     "output_type": "execute_result"
    }
   ],
   "source": [
    "df['Gender'].value_counts()"
   ]
  },
  {
   "cell_type": "code",
   "execution_count": 9,
   "id": "36f70ddb",
   "metadata": {
    "execution": {
     "iopub.execute_input": "2025-06-19T08:42:37.071059Z",
     "iopub.status.busy": "2025-06-19T08:42:37.070760Z",
     "iopub.status.idle": "2025-06-19T08:42:37.079687Z",
     "shell.execute_reply": "2025-06-19T08:42:37.078664Z"
    },
    "papermill": {
     "duration": 0.020756,
     "end_time": "2025-06-19T08:42:37.081241",
     "exception": false,
     "start_time": "2025-06-19T08:42:37.060485",
     "status": "completed"
    },
    "tags": []
   },
   "outputs": [],
   "source": [
    "df.drop(columns = ['RowNumber','CustomerId','Surname'],inplace=True)"
   ]
  },
  {
   "cell_type": "code",
   "execution_count": 10,
   "id": "6b0c957b",
   "metadata": {
    "execution": {
     "iopub.execute_input": "2025-06-19T08:42:37.101236Z",
     "iopub.status.busy": "2025-06-19T08:42:37.100954Z",
     "iopub.status.idle": "2025-06-19T08:42:37.113318Z",
     "shell.execute_reply": "2025-06-19T08:42:37.112479Z"
    },
    "papermill": {
     "duration": 0.024411,
     "end_time": "2025-06-19T08:42:37.115063",
     "exception": false,
     "start_time": "2025-06-19T08:42:37.090652",
     "status": "completed"
    },
    "tags": []
   },
   "outputs": [
    {
     "data": {
      "text/html": [
       "<div>\n",
       "<style scoped>\n",
       "    .dataframe tbody tr th:only-of-type {\n",
       "        vertical-align: middle;\n",
       "    }\n",
       "\n",
       "    .dataframe tbody tr th {\n",
       "        vertical-align: top;\n",
       "    }\n",
       "\n",
       "    .dataframe thead th {\n",
       "        text-align: right;\n",
       "    }\n",
       "</style>\n",
       "<table border=\"1\" class=\"dataframe\">\n",
       "  <thead>\n",
       "    <tr style=\"text-align: right;\">\n",
       "      <th></th>\n",
       "      <th>CreditScore</th>\n",
       "      <th>Geography</th>\n",
       "      <th>Gender</th>\n",
       "      <th>Age</th>\n",
       "      <th>Tenure</th>\n",
       "      <th>Balance</th>\n",
       "      <th>NumOfProducts</th>\n",
       "      <th>HasCrCard</th>\n",
       "      <th>IsActiveMember</th>\n",
       "      <th>EstimatedSalary</th>\n",
       "      <th>Exited</th>\n",
       "    </tr>\n",
       "  </thead>\n",
       "  <tbody>\n",
       "    <tr>\n",
       "      <th>0</th>\n",
       "      <td>619</td>\n",
       "      <td>France</td>\n",
       "      <td>Female</td>\n",
       "      <td>42</td>\n",
       "      <td>2</td>\n",
       "      <td>0.00</td>\n",
       "      <td>1</td>\n",
       "      <td>1</td>\n",
       "      <td>1</td>\n",
       "      <td>101348.88</td>\n",
       "      <td>1</td>\n",
       "    </tr>\n",
       "    <tr>\n",
       "      <th>1</th>\n",
       "      <td>608</td>\n",
       "      <td>Spain</td>\n",
       "      <td>Female</td>\n",
       "      <td>41</td>\n",
       "      <td>1</td>\n",
       "      <td>83807.86</td>\n",
       "      <td>1</td>\n",
       "      <td>0</td>\n",
       "      <td>1</td>\n",
       "      <td>112542.58</td>\n",
       "      <td>0</td>\n",
       "    </tr>\n",
       "    <tr>\n",
       "      <th>2</th>\n",
       "      <td>502</td>\n",
       "      <td>France</td>\n",
       "      <td>Female</td>\n",
       "      <td>42</td>\n",
       "      <td>8</td>\n",
       "      <td>159660.80</td>\n",
       "      <td>3</td>\n",
       "      <td>1</td>\n",
       "      <td>0</td>\n",
       "      <td>113931.57</td>\n",
       "      <td>1</td>\n",
       "    </tr>\n",
       "    <tr>\n",
       "      <th>3</th>\n",
       "      <td>699</td>\n",
       "      <td>France</td>\n",
       "      <td>Female</td>\n",
       "      <td>39</td>\n",
       "      <td>1</td>\n",
       "      <td>0.00</td>\n",
       "      <td>2</td>\n",
       "      <td>0</td>\n",
       "      <td>0</td>\n",
       "      <td>93826.63</td>\n",
       "      <td>0</td>\n",
       "    </tr>\n",
       "  </tbody>\n",
       "</table>\n",
       "</div>"
      ],
      "text/plain": [
       "   CreditScore Geography  Gender  Age  Tenure    Balance  NumOfProducts  \\\n",
       "0          619    France  Female   42       2       0.00              1   \n",
       "1          608     Spain  Female   41       1   83807.86              1   \n",
       "2          502    France  Female   42       8  159660.80              3   \n",
       "3          699    France  Female   39       1       0.00              2   \n",
       "\n",
       "   HasCrCard  IsActiveMember  EstimatedSalary  Exited  \n",
       "0          1               1        101348.88       1  \n",
       "1          0               1        112542.58       0  \n",
       "2          1               0        113931.57       1  \n",
       "3          0               0         93826.63       0  "
      ]
     },
     "execution_count": 10,
     "metadata": {},
     "output_type": "execute_result"
    }
   ],
   "source": [
    "df.head(4)"
   ]
  },
  {
   "cell_type": "markdown",
   "id": "3b953745",
   "metadata": {
    "papermill": {
     "duration": 0.00931,
     "end_time": "2025-06-19T08:42:37.134112",
     "exception": false,
     "start_time": "2025-06-19T08:42:37.124802",
     "status": "completed"
    },
    "tags": []
   },
   "source": [
    "### we are avoiding EDA, we are just learning"
   ]
  },
  {
   "cell_type": "code",
   "execution_count": 11,
   "id": "c1faa018",
   "metadata": {
    "execution": {
     "iopub.execute_input": "2025-06-19T08:42:37.155046Z",
     "iopub.status.busy": "2025-06-19T08:42:37.154132Z",
     "iopub.status.idle": "2025-06-19T08:42:37.166144Z",
     "shell.execute_reply": "2025-06-19T08:42:37.165258Z"
    },
    "papermill": {
     "duration": 0.024313,
     "end_time": "2025-06-19T08:42:37.168000",
     "exception": false,
     "start_time": "2025-06-19T08:42:37.143687",
     "status": "completed"
    },
    "tags": []
   },
   "outputs": [],
   "source": [
    "# converting categorical values to numberical so need encoding\n",
    "df = pd.get_dummies(df, columns=['Geography','Gender'], drop_first=True)\n"
   ]
  },
  {
   "cell_type": "code",
   "execution_count": 12,
   "id": "7d97a8be",
   "metadata": {
    "execution": {
     "iopub.execute_input": "2025-06-19T08:42:37.189062Z",
     "iopub.status.busy": "2025-06-19T08:42:37.188152Z",
     "iopub.status.idle": "2025-06-19T08:42:37.202159Z",
     "shell.execute_reply": "2025-06-19T08:42:37.201190Z"
    },
    "papermill": {
     "duration": 0.025995,
     "end_time": "2025-06-19T08:42:37.203565",
     "exception": false,
     "start_time": "2025-06-19T08:42:37.177570",
     "status": "completed"
    },
    "tags": []
   },
   "outputs": [
    {
     "data": {
      "text/html": [
       "<div>\n",
       "<style scoped>\n",
       "    .dataframe tbody tr th:only-of-type {\n",
       "        vertical-align: middle;\n",
       "    }\n",
       "\n",
       "    .dataframe tbody tr th {\n",
       "        vertical-align: top;\n",
       "    }\n",
       "\n",
       "    .dataframe thead th {\n",
       "        text-align: right;\n",
       "    }\n",
       "</style>\n",
       "<table border=\"1\" class=\"dataframe\">\n",
       "  <thead>\n",
       "    <tr style=\"text-align: right;\">\n",
       "      <th></th>\n",
       "      <th>CreditScore</th>\n",
       "      <th>Age</th>\n",
       "      <th>Tenure</th>\n",
       "      <th>Balance</th>\n",
       "      <th>NumOfProducts</th>\n",
       "      <th>HasCrCard</th>\n",
       "      <th>IsActiveMember</th>\n",
       "      <th>EstimatedSalary</th>\n",
       "      <th>Exited</th>\n",
       "      <th>Geography_Germany</th>\n",
       "      <th>Geography_Spain</th>\n",
       "      <th>Gender_Male</th>\n",
       "    </tr>\n",
       "  </thead>\n",
       "  <tbody>\n",
       "    <tr>\n",
       "      <th>0</th>\n",
       "      <td>619</td>\n",
       "      <td>42</td>\n",
       "      <td>2</td>\n",
       "      <td>0.00</td>\n",
       "      <td>1</td>\n",
       "      <td>1</td>\n",
       "      <td>1</td>\n",
       "      <td>101348.88</td>\n",
       "      <td>1</td>\n",
       "      <td>False</td>\n",
       "      <td>False</td>\n",
       "      <td>False</td>\n",
       "    </tr>\n",
       "    <tr>\n",
       "      <th>1</th>\n",
       "      <td>608</td>\n",
       "      <td>41</td>\n",
       "      <td>1</td>\n",
       "      <td>83807.86</td>\n",
       "      <td>1</td>\n",
       "      <td>0</td>\n",
       "      <td>1</td>\n",
       "      <td>112542.58</td>\n",
       "      <td>0</td>\n",
       "      <td>False</td>\n",
       "      <td>True</td>\n",
       "      <td>False</td>\n",
       "    </tr>\n",
       "    <tr>\n",
       "      <th>2</th>\n",
       "      <td>502</td>\n",
       "      <td>42</td>\n",
       "      <td>8</td>\n",
       "      <td>159660.80</td>\n",
       "      <td>3</td>\n",
       "      <td>1</td>\n",
       "      <td>0</td>\n",
       "      <td>113931.57</td>\n",
       "      <td>1</td>\n",
       "      <td>False</td>\n",
       "      <td>False</td>\n",
       "      <td>False</td>\n",
       "    </tr>\n",
       "    <tr>\n",
       "      <th>3</th>\n",
       "      <td>699</td>\n",
       "      <td>39</td>\n",
       "      <td>1</td>\n",
       "      <td>0.00</td>\n",
       "      <td>2</td>\n",
       "      <td>0</td>\n",
       "      <td>0</td>\n",
       "      <td>93826.63</td>\n",
       "      <td>0</td>\n",
       "      <td>False</td>\n",
       "      <td>False</td>\n",
       "      <td>False</td>\n",
       "    </tr>\n",
       "    <tr>\n",
       "      <th>4</th>\n",
       "      <td>850</td>\n",
       "      <td>43</td>\n",
       "      <td>2</td>\n",
       "      <td>125510.82</td>\n",
       "      <td>1</td>\n",
       "      <td>1</td>\n",
       "      <td>1</td>\n",
       "      <td>79084.10</td>\n",
       "      <td>0</td>\n",
       "      <td>False</td>\n",
       "      <td>True</td>\n",
       "      <td>False</td>\n",
       "    </tr>\n",
       "  </tbody>\n",
       "</table>\n",
       "</div>"
      ],
      "text/plain": [
       "   CreditScore  Age  Tenure    Balance  NumOfProducts  HasCrCard  \\\n",
       "0          619   42       2       0.00              1          1   \n",
       "1          608   41       1   83807.86              1          0   \n",
       "2          502   42       8  159660.80              3          1   \n",
       "3          699   39       1       0.00              2          0   \n",
       "4          850   43       2  125510.82              1          1   \n",
       "\n",
       "   IsActiveMember  EstimatedSalary  Exited  Geography_Germany  \\\n",
       "0               1        101348.88       1              False   \n",
       "1               1        112542.58       0              False   \n",
       "2               0        113931.57       1              False   \n",
       "3               0         93826.63       0              False   \n",
       "4               1         79084.10       0              False   \n",
       "\n",
       "   Geography_Spain  Gender_Male  \n",
       "0            False        False  \n",
       "1             True        False  \n",
       "2            False        False  \n",
       "3            False        False  \n",
       "4             True        False  "
      ]
     },
     "execution_count": 12,
     "metadata": {},
     "output_type": "execute_result"
    }
   ],
   "source": [
    "df.head()"
   ]
  },
  {
   "cell_type": "code",
   "execution_count": 13,
   "id": "5abf250a",
   "metadata": {
    "execution": {
     "iopub.execute_input": "2025-06-19T08:42:37.225633Z",
     "iopub.status.busy": "2025-06-19T08:42:37.224319Z",
     "iopub.status.idle": "2025-06-19T08:42:37.235599Z",
     "shell.execute_reply": "2025-06-19T08:42:37.234585Z"
    },
    "papermill": {
     "duration": 0.023755,
     "end_time": "2025-06-19T08:42:37.237250",
     "exception": false,
     "start_time": "2025-06-19T08:42:37.213495",
     "status": "completed"
    },
    "tags": []
   },
   "outputs": [
    {
     "name": "stdout",
     "output_type": "stream",
     "text": [
      "<class 'pandas.core.frame.DataFrame'>\n",
      "RangeIndex: 10000 entries, 0 to 9999\n",
      "Data columns (total 12 columns):\n",
      " #   Column             Non-Null Count  Dtype  \n",
      "---  ------             --------------  -----  \n",
      " 0   CreditScore        10000 non-null  int64  \n",
      " 1   Age                10000 non-null  int64  \n",
      " 2   Tenure             10000 non-null  int64  \n",
      " 3   Balance            10000 non-null  float64\n",
      " 4   NumOfProducts      10000 non-null  int64  \n",
      " 5   HasCrCard          10000 non-null  int64  \n",
      " 6   IsActiveMember     10000 non-null  int64  \n",
      " 7   EstimatedSalary    10000 non-null  float64\n",
      " 8   Exited             10000 non-null  int64  \n",
      " 9   Geography_Germany  10000 non-null  bool   \n",
      " 10  Geography_Spain    10000 non-null  bool   \n",
      " 11  Gender_Male        10000 non-null  bool   \n",
      "dtypes: bool(3), float64(2), int64(7)\n",
      "memory usage: 732.6 KB\n"
     ]
    }
   ],
   "source": [
    "df.info()\n"
   ]
  },
  {
   "cell_type": "code",
   "execution_count": 14,
   "id": "f1ef83fe",
   "metadata": {
    "execution": {
     "iopub.execute_input": "2025-06-19T08:42:37.259035Z",
     "iopub.status.busy": "2025-06-19T08:42:37.258721Z",
     "iopub.status.idle": "2025-06-19T08:42:37.267255Z",
     "shell.execute_reply": "2025-06-19T08:42:37.266468Z"
    },
    "papermill": {
     "duration": 0.021404,
     "end_time": "2025-06-19T08:42:37.268722",
     "exception": false,
     "start_time": "2025-06-19T08:42:37.247318",
     "status": "completed"
    },
    "tags": []
   },
   "outputs": [],
   "source": [
    "df[['Geography_Germany', 'Geography_Spain', 'Gender_Male']] = df[['Geography_Germany', 'Geography_Spain', 'Gender_Male']].astype(int)\n"
   ]
  },
  {
   "cell_type": "code",
   "execution_count": 15,
   "id": "d20970fa",
   "metadata": {
    "execution": {
     "iopub.execute_input": "2025-06-19T08:42:37.290165Z",
     "iopub.status.busy": "2025-06-19T08:42:37.289871Z",
     "iopub.status.idle": "2025-06-19T08:42:37.300335Z",
     "shell.execute_reply": "2025-06-19T08:42:37.299134Z"
    },
    "papermill": {
     "duration": 0.022815,
     "end_time": "2025-06-19T08:42:37.301922",
     "exception": false,
     "start_time": "2025-06-19T08:42:37.279107",
     "status": "completed"
    },
    "tags": []
   },
   "outputs": [
    {
     "name": "stdout",
     "output_type": "stream",
     "text": [
      "<class 'pandas.core.frame.DataFrame'>\n",
      "RangeIndex: 10000 entries, 0 to 9999\n",
      "Data columns (total 12 columns):\n",
      " #   Column             Non-Null Count  Dtype  \n",
      "---  ------             --------------  -----  \n",
      " 0   CreditScore        10000 non-null  int64  \n",
      " 1   Age                10000 non-null  int64  \n",
      " 2   Tenure             10000 non-null  int64  \n",
      " 3   Balance            10000 non-null  float64\n",
      " 4   NumOfProducts      10000 non-null  int64  \n",
      " 5   HasCrCard          10000 non-null  int64  \n",
      " 6   IsActiveMember     10000 non-null  int64  \n",
      " 7   EstimatedSalary    10000 non-null  float64\n",
      " 8   Exited             10000 non-null  int64  \n",
      " 9   Geography_Germany  10000 non-null  int64  \n",
      " 10  Geography_Spain    10000 non-null  int64  \n",
      " 11  Gender_Male        10000 non-null  int64  \n",
      "dtypes: float64(2), int64(10)\n",
      "memory usage: 937.6 KB\n"
     ]
    }
   ],
   "source": [
    "df.info()\n"
   ]
  },
  {
   "cell_type": "code",
   "execution_count": 16,
   "id": "18edb37d",
   "metadata": {
    "execution": {
     "iopub.execute_input": "2025-06-19T08:42:37.386807Z",
     "iopub.status.busy": "2025-06-19T08:42:37.386485Z",
     "iopub.status.idle": "2025-06-19T08:42:37.398445Z",
     "shell.execute_reply": "2025-06-19T08:42:37.397677Z"
    },
    "papermill": {
     "duration": 0.024207,
     "end_time": "2025-06-19T08:42:37.399772",
     "exception": false,
     "start_time": "2025-06-19T08:42:37.375565",
     "status": "completed"
    },
    "tags": []
   },
   "outputs": [
    {
     "data": {
      "text/html": [
       "<div>\n",
       "<style scoped>\n",
       "    .dataframe tbody tr th:only-of-type {\n",
       "        vertical-align: middle;\n",
       "    }\n",
       "\n",
       "    .dataframe tbody tr th {\n",
       "        vertical-align: top;\n",
       "    }\n",
       "\n",
       "    .dataframe thead th {\n",
       "        text-align: right;\n",
       "    }\n",
       "</style>\n",
       "<table border=\"1\" class=\"dataframe\">\n",
       "  <thead>\n",
       "    <tr style=\"text-align: right;\">\n",
       "      <th></th>\n",
       "      <th>CreditScore</th>\n",
       "      <th>Age</th>\n",
       "      <th>Tenure</th>\n",
       "      <th>Balance</th>\n",
       "      <th>NumOfProducts</th>\n",
       "      <th>HasCrCard</th>\n",
       "      <th>IsActiveMember</th>\n",
       "      <th>EstimatedSalary</th>\n",
       "      <th>Exited</th>\n",
       "      <th>Geography_Germany</th>\n",
       "      <th>Geography_Spain</th>\n",
       "      <th>Gender_Male</th>\n",
       "    </tr>\n",
       "  </thead>\n",
       "  <tbody>\n",
       "    <tr>\n",
       "      <th>0</th>\n",
       "      <td>619</td>\n",
       "      <td>42</td>\n",
       "      <td>2</td>\n",
       "      <td>0.00</td>\n",
       "      <td>1</td>\n",
       "      <td>1</td>\n",
       "      <td>1</td>\n",
       "      <td>101348.88</td>\n",
       "      <td>1</td>\n",
       "      <td>0</td>\n",
       "      <td>0</td>\n",
       "      <td>0</td>\n",
       "    </tr>\n",
       "    <tr>\n",
       "      <th>1</th>\n",
       "      <td>608</td>\n",
       "      <td>41</td>\n",
       "      <td>1</td>\n",
       "      <td>83807.86</td>\n",
       "      <td>1</td>\n",
       "      <td>0</td>\n",
       "      <td>1</td>\n",
       "      <td>112542.58</td>\n",
       "      <td>0</td>\n",
       "      <td>0</td>\n",
       "      <td>1</td>\n",
       "      <td>0</td>\n",
       "    </tr>\n",
       "    <tr>\n",
       "      <th>2</th>\n",
       "      <td>502</td>\n",
       "      <td>42</td>\n",
       "      <td>8</td>\n",
       "      <td>159660.80</td>\n",
       "      <td>3</td>\n",
       "      <td>1</td>\n",
       "      <td>0</td>\n",
       "      <td>113931.57</td>\n",
       "      <td>1</td>\n",
       "      <td>0</td>\n",
       "      <td>0</td>\n",
       "      <td>0</td>\n",
       "    </tr>\n",
       "    <tr>\n",
       "      <th>3</th>\n",
       "      <td>699</td>\n",
       "      <td>39</td>\n",
       "      <td>1</td>\n",
       "      <td>0.00</td>\n",
       "      <td>2</td>\n",
       "      <td>0</td>\n",
       "      <td>0</td>\n",
       "      <td>93826.63</td>\n",
       "      <td>0</td>\n",
       "      <td>0</td>\n",
       "      <td>0</td>\n",
       "      <td>0</td>\n",
       "    </tr>\n",
       "    <tr>\n",
       "      <th>4</th>\n",
       "      <td>850</td>\n",
       "      <td>43</td>\n",
       "      <td>2</td>\n",
       "      <td>125510.82</td>\n",
       "      <td>1</td>\n",
       "      <td>1</td>\n",
       "      <td>1</td>\n",
       "      <td>79084.10</td>\n",
       "      <td>0</td>\n",
       "      <td>0</td>\n",
       "      <td>1</td>\n",
       "      <td>0</td>\n",
       "    </tr>\n",
       "  </tbody>\n",
       "</table>\n",
       "</div>"
      ],
      "text/plain": [
       "   CreditScore  Age  Tenure    Balance  NumOfProducts  HasCrCard  \\\n",
       "0          619   42       2       0.00              1          1   \n",
       "1          608   41       1   83807.86              1          0   \n",
       "2          502   42       8  159660.80              3          1   \n",
       "3          699   39       1       0.00              2          0   \n",
       "4          850   43       2  125510.82              1          1   \n",
       "\n",
       "   IsActiveMember  EstimatedSalary  Exited  Geography_Germany  \\\n",
       "0               1        101348.88       1                  0   \n",
       "1               1        112542.58       0                  0   \n",
       "2               0        113931.57       1                  0   \n",
       "3               0         93826.63       0                  0   \n",
       "4               1         79084.10       0                  0   \n",
       "\n",
       "   Geography_Spain  Gender_Male  \n",
       "0                0            0  \n",
       "1                1            0  \n",
       "2                0            0  \n",
       "3                0            0  \n",
       "4                1            0  "
      ]
     },
     "execution_count": 16,
     "metadata": {},
     "output_type": "execute_result"
    }
   ],
   "source": [
    "df.head()"
   ]
  },
  {
   "cell_type": "code",
   "execution_count": 17,
   "id": "4dc84e06",
   "metadata": {
    "execution": {
     "iopub.execute_input": "2025-06-19T08:42:37.421528Z",
     "iopub.status.busy": "2025-06-19T08:42:37.421195Z",
     "iopub.status.idle": "2025-06-19T08:42:37.426896Z",
     "shell.execute_reply": "2025-06-19T08:42:37.426186Z"
    },
    "papermill": {
     "duration": 0.018264,
     "end_time": "2025-06-19T08:42:37.428280",
     "exception": false,
     "start_time": "2025-06-19T08:42:37.410016",
     "status": "completed"
    },
    "tags": []
   },
   "outputs": [],
   "source": [
    "X=df.drop(columns=['Exited'])#temporary drop  Exited and other  ko store in X\n",
    "y=df['Exited'] "
   ]
  },
  {
   "cell_type": "code",
   "execution_count": 18,
   "id": "6c133136",
   "metadata": {
    "execution": {
     "iopub.execute_input": "2025-06-19T08:42:37.449699Z",
     "iopub.status.busy": "2025-06-19T08:42:37.449349Z",
     "iopub.status.idle": "2025-06-19T08:42:39.065198Z",
     "shell.execute_reply": "2025-06-19T08:42:39.064103Z"
    },
    "papermill": {
     "duration": 1.62851,
     "end_time": "2025-06-19T08:42:39.066948",
     "exception": false,
     "start_time": "2025-06-19T08:42:37.438438",
     "status": "completed"
    },
    "tags": []
   },
   "outputs": [],
   "source": [
    "from sklearn.model_selection import train_test_split\n",
    "X_train,X_test,y_train,y_test = train_test_split(X,y,test_size=0.2,random_state=1)"
   ]
  },
  {
   "cell_type": "code",
   "execution_count": 19,
   "id": "9eb513a3",
   "metadata": {
    "execution": {
     "iopub.execute_input": "2025-06-19T08:42:39.088798Z",
     "iopub.status.busy": "2025-06-19T08:42:39.088332Z",
     "iopub.status.idle": "2025-06-19T08:42:39.102282Z",
     "shell.execute_reply": "2025-06-19T08:42:39.101338Z"
    },
    "papermill": {
     "duration": 0.026501,
     "end_time": "2025-06-19T08:42:39.103790",
     "exception": false,
     "start_time": "2025-06-19T08:42:39.077289",
     "status": "completed"
    },
    "tags": []
   },
   "outputs": [
    {
     "data": {
      "text/html": [
       "<div>\n",
       "<style scoped>\n",
       "    .dataframe tbody tr th:only-of-type {\n",
       "        vertical-align: middle;\n",
       "    }\n",
       "\n",
       "    .dataframe tbody tr th {\n",
       "        vertical-align: top;\n",
       "    }\n",
       "\n",
       "    .dataframe thead th {\n",
       "        text-align: right;\n",
       "    }\n",
       "</style>\n",
       "<table border=\"1\" class=\"dataframe\">\n",
       "  <thead>\n",
       "    <tr style=\"text-align: right;\">\n",
       "      <th></th>\n",
       "      <th>CreditScore</th>\n",
       "      <th>Age</th>\n",
       "      <th>Tenure</th>\n",
       "      <th>Balance</th>\n",
       "      <th>NumOfProducts</th>\n",
       "      <th>HasCrCard</th>\n",
       "      <th>IsActiveMember</th>\n",
       "      <th>EstimatedSalary</th>\n",
       "      <th>Geography_Germany</th>\n",
       "      <th>Geography_Spain</th>\n",
       "      <th>Gender_Male</th>\n",
       "    </tr>\n",
       "  </thead>\n",
       "  <tbody>\n",
       "    <tr>\n",
       "      <th>0</th>\n",
       "      <td>619</td>\n",
       "      <td>42</td>\n",
       "      <td>2</td>\n",
       "      <td>0.00</td>\n",
       "      <td>1</td>\n",
       "      <td>1</td>\n",
       "      <td>1</td>\n",
       "      <td>101348.88</td>\n",
       "      <td>0</td>\n",
       "      <td>0</td>\n",
       "      <td>0</td>\n",
       "    </tr>\n",
       "    <tr>\n",
       "      <th>1</th>\n",
       "      <td>608</td>\n",
       "      <td>41</td>\n",
       "      <td>1</td>\n",
       "      <td>83807.86</td>\n",
       "      <td>1</td>\n",
       "      <td>0</td>\n",
       "      <td>1</td>\n",
       "      <td>112542.58</td>\n",
       "      <td>0</td>\n",
       "      <td>1</td>\n",
       "      <td>0</td>\n",
       "    </tr>\n",
       "    <tr>\n",
       "      <th>2</th>\n",
       "      <td>502</td>\n",
       "      <td>42</td>\n",
       "      <td>8</td>\n",
       "      <td>159660.80</td>\n",
       "      <td>3</td>\n",
       "      <td>1</td>\n",
       "      <td>0</td>\n",
       "      <td>113931.57</td>\n",
       "      <td>0</td>\n",
       "      <td>0</td>\n",
       "      <td>0</td>\n",
       "    </tr>\n",
       "    <tr>\n",
       "      <th>3</th>\n",
       "      <td>699</td>\n",
       "      <td>39</td>\n",
       "      <td>1</td>\n",
       "      <td>0.00</td>\n",
       "      <td>2</td>\n",
       "      <td>0</td>\n",
       "      <td>0</td>\n",
       "      <td>93826.63</td>\n",
       "      <td>0</td>\n",
       "      <td>0</td>\n",
       "      <td>0</td>\n",
       "    </tr>\n",
       "    <tr>\n",
       "      <th>4</th>\n",
       "      <td>850</td>\n",
       "      <td>43</td>\n",
       "      <td>2</td>\n",
       "      <td>125510.82</td>\n",
       "      <td>1</td>\n",
       "      <td>1</td>\n",
       "      <td>1</td>\n",
       "      <td>79084.10</td>\n",
       "      <td>0</td>\n",
       "      <td>1</td>\n",
       "      <td>0</td>\n",
       "    </tr>\n",
       "    <tr>\n",
       "      <th>...</th>\n",
       "      <td>...</td>\n",
       "      <td>...</td>\n",
       "      <td>...</td>\n",
       "      <td>...</td>\n",
       "      <td>...</td>\n",
       "      <td>...</td>\n",
       "      <td>...</td>\n",
       "      <td>...</td>\n",
       "      <td>...</td>\n",
       "      <td>...</td>\n",
       "      <td>...</td>\n",
       "    </tr>\n",
       "    <tr>\n",
       "      <th>9995</th>\n",
       "      <td>771</td>\n",
       "      <td>39</td>\n",
       "      <td>5</td>\n",
       "      <td>0.00</td>\n",
       "      <td>2</td>\n",
       "      <td>1</td>\n",
       "      <td>0</td>\n",
       "      <td>96270.64</td>\n",
       "      <td>0</td>\n",
       "      <td>0</td>\n",
       "      <td>1</td>\n",
       "    </tr>\n",
       "    <tr>\n",
       "      <th>9996</th>\n",
       "      <td>516</td>\n",
       "      <td>35</td>\n",
       "      <td>10</td>\n",
       "      <td>57369.61</td>\n",
       "      <td>1</td>\n",
       "      <td>1</td>\n",
       "      <td>1</td>\n",
       "      <td>101699.77</td>\n",
       "      <td>0</td>\n",
       "      <td>0</td>\n",
       "      <td>1</td>\n",
       "    </tr>\n",
       "    <tr>\n",
       "      <th>9997</th>\n",
       "      <td>709</td>\n",
       "      <td>36</td>\n",
       "      <td>7</td>\n",
       "      <td>0.00</td>\n",
       "      <td>1</td>\n",
       "      <td>0</td>\n",
       "      <td>1</td>\n",
       "      <td>42085.58</td>\n",
       "      <td>0</td>\n",
       "      <td>0</td>\n",
       "      <td>0</td>\n",
       "    </tr>\n",
       "    <tr>\n",
       "      <th>9998</th>\n",
       "      <td>772</td>\n",
       "      <td>42</td>\n",
       "      <td>3</td>\n",
       "      <td>75075.31</td>\n",
       "      <td>2</td>\n",
       "      <td>1</td>\n",
       "      <td>0</td>\n",
       "      <td>92888.52</td>\n",
       "      <td>1</td>\n",
       "      <td>0</td>\n",
       "      <td>1</td>\n",
       "    </tr>\n",
       "    <tr>\n",
       "      <th>9999</th>\n",
       "      <td>792</td>\n",
       "      <td>28</td>\n",
       "      <td>4</td>\n",
       "      <td>130142.79</td>\n",
       "      <td>1</td>\n",
       "      <td>1</td>\n",
       "      <td>0</td>\n",
       "      <td>38190.78</td>\n",
       "      <td>0</td>\n",
       "      <td>0</td>\n",
       "      <td>0</td>\n",
       "    </tr>\n",
       "  </tbody>\n",
       "</table>\n",
       "<p>10000 rows × 11 columns</p>\n",
       "</div>"
      ],
      "text/plain": [
       "      CreditScore  Age  Tenure    Balance  NumOfProducts  HasCrCard  \\\n",
       "0             619   42       2       0.00              1          1   \n",
       "1             608   41       1   83807.86              1          0   \n",
       "2             502   42       8  159660.80              3          1   \n",
       "3             699   39       1       0.00              2          0   \n",
       "4             850   43       2  125510.82              1          1   \n",
       "...           ...  ...     ...        ...            ...        ...   \n",
       "9995          771   39       5       0.00              2          1   \n",
       "9996          516   35      10   57369.61              1          1   \n",
       "9997          709   36       7       0.00              1          0   \n",
       "9998          772   42       3   75075.31              2          1   \n",
       "9999          792   28       4  130142.79              1          1   \n",
       "\n",
       "      IsActiveMember  EstimatedSalary  Geography_Germany  Geography_Spain  \\\n",
       "0                  1        101348.88                  0                0   \n",
       "1                  1        112542.58                  0                1   \n",
       "2                  0        113931.57                  0                0   \n",
       "3                  0         93826.63                  0                0   \n",
       "4                  1         79084.10                  0                1   \n",
       "...              ...              ...                ...              ...   \n",
       "9995               0         96270.64                  0                0   \n",
       "9996               1        101699.77                  0                0   \n",
       "9997               1         42085.58                  0                0   \n",
       "9998               0         92888.52                  1                0   \n",
       "9999               0         38190.78                  0                0   \n",
       "\n",
       "      Gender_Male  \n",
       "0               0  \n",
       "1               0  \n",
       "2               0  \n",
       "3               0  \n",
       "4               0  \n",
       "...           ...  \n",
       "9995            1  \n",
       "9996            1  \n",
       "9997            0  \n",
       "9998            1  \n",
       "9999            0  \n",
       "\n",
       "[10000 rows x 11 columns]"
      ]
     },
     "execution_count": 19,
     "metadata": {},
     "output_type": "execute_result"
    }
   ],
   "source": [
    "X"
   ]
  },
  {
   "cell_type": "code",
   "execution_count": 20,
   "id": "67c510c7",
   "metadata": {
    "execution": {
     "iopub.execute_input": "2025-06-19T08:42:39.126334Z",
     "iopub.status.busy": "2025-06-19T08:42:39.125954Z",
     "iopub.status.idle": "2025-06-19T08:42:39.133317Z",
     "shell.execute_reply": "2025-06-19T08:42:39.132294Z"
    },
    "papermill": {
     "duration": 0.020735,
     "end_time": "2025-06-19T08:42:39.135092",
     "exception": false,
     "start_time": "2025-06-19T08:42:39.114357",
     "status": "completed"
    },
    "tags": []
   },
   "outputs": [
    {
     "data": {
      "text/plain": [
       "0       1\n",
       "1       0\n",
       "2       1\n",
       "3       0\n",
       "4       0\n",
       "       ..\n",
       "9995    0\n",
       "9996    0\n",
       "9997    1\n",
       "9998    1\n",
       "9999    0\n",
       "Name: Exited, Length: 10000, dtype: int64"
      ]
     },
     "execution_count": 20,
     "metadata": {},
     "output_type": "execute_result"
    }
   ],
   "source": [
    "y"
   ]
  },
  {
   "cell_type": "code",
   "execution_count": 21,
   "id": "7cdb3375",
   "metadata": {
    "execution": {
     "iopub.execute_input": "2025-06-19T08:42:39.157391Z",
     "iopub.status.busy": "2025-06-19T08:42:39.157078Z",
     "iopub.status.idle": "2025-06-19T08:42:39.182782Z",
     "shell.execute_reply": "2025-06-19T08:42:39.181943Z"
    },
    "papermill": {
     "duration": 0.038786,
     "end_time": "2025-06-19T08:42:39.184541",
     "exception": false,
     "start_time": "2025-06-19T08:42:39.145755",
     "status": "completed"
    },
    "tags": []
   },
   "outputs": [],
   "source": [
    "from sklearn.preprocessing import StandardScaler\n",
    "scaler = StandardScaler()\n",
    "\n",
    "X_trained_scaled =scaler.fit_transform(X_train)\n",
    "X_test_scaled =scaler.transform(X_test)"
   ]
  },
  {
   "cell_type": "code",
   "execution_count": 22,
   "id": "792cb4cd",
   "metadata": {
    "execution": {
     "iopub.execute_input": "2025-06-19T08:42:39.208425Z",
     "iopub.status.busy": "2025-06-19T08:42:39.207239Z",
     "iopub.status.idle": "2025-06-19T08:42:39.213853Z",
     "shell.execute_reply": "2025-06-19T08:42:39.212973Z"
    },
    "papermill": {
     "duration": 0.019689,
     "end_time": "2025-06-19T08:42:39.215359",
     "exception": false,
     "start_time": "2025-06-19T08:42:39.195670",
     "status": "completed"
    },
    "tags": []
   },
   "outputs": [
    {
     "data": {
      "text/plain": [
       "array([[-0.23082038, -0.94449979, -0.70174202, ...,  1.71490137,\n",
       "        -0.57273139,  0.91509065],\n",
       "       [-0.25150912, -0.94449979, -0.35520275, ..., -0.58312392,\n",
       "        -0.57273139, -1.09278791],\n",
       "       [-0.3963303 ,  0.77498705,  0.33787579, ...,  1.71490137,\n",
       "        -0.57273139, -1.09278791],\n",
       "       ...,\n",
       "       [ 0.22433188,  0.58393295,  1.3774936 , ..., -0.58312392,\n",
       "        -0.57273139, -1.09278791],\n",
       "       [ 0.13123255,  0.01077067,  1.03095433, ..., -0.58312392,\n",
       "        -0.57273139, -1.09278791],\n",
       "       [ 1.1656695 ,  0.29735181,  0.33787579, ...,  1.71490137,\n",
       "        -0.57273139,  0.91509065]])"
      ]
     },
     "execution_count": 22,
     "metadata": {},
     "output_type": "execute_result"
    }
   ],
   "source": [
    "X_trained_scaled"
   ]
  },
  {
   "cell_type": "code",
   "execution_count": null,
   "id": "d5d6e488",
   "metadata": {
    "papermill": {
     "duration": 0.01018,
     "end_time": "2025-06-19T08:42:39.236283",
     "exception": false,
     "start_time": "2025-06-19T08:42:39.226103",
     "status": "completed"
    },
    "tags": []
   },
   "outputs": [],
   "source": []
  },
  {
   "cell_type": "code",
   "execution_count": 23,
   "id": "6d3d9166",
   "metadata": {
    "execution": {
     "iopub.execute_input": "2025-06-19T08:42:39.259432Z",
     "iopub.status.busy": "2025-06-19T08:42:39.259090Z",
     "iopub.status.idle": "2025-06-19T08:42:55.572146Z",
     "shell.execute_reply": "2025-06-19T08:42:55.571253Z"
    },
    "papermill": {
     "duration": 16.326786,
     "end_time": "2025-06-19T08:42:55.573685",
     "exception": false,
     "start_time": "2025-06-19T08:42:39.246899",
     "status": "completed"
    },
    "tags": []
   },
   "outputs": [
    {
     "name": "stderr",
     "output_type": "stream",
     "text": [
      "2025-06-19 08:42:41.291008: E external/local_xla/xla/stream_executor/cuda/cuda_fft.cc:477] Unable to register cuFFT factory: Attempting to register factory for plugin cuFFT when one has already been registered\n",
      "WARNING: All log messages before absl::InitializeLog() is called are written to STDERR\n",
      "E0000 00:00:1750322561.531419      13 cuda_dnn.cc:8310] Unable to register cuDNN factory: Attempting to register factory for plugin cuDNN when one has already been registered\n",
      "E0000 00:00:1750322561.601533      13 cuda_blas.cc:1418] Unable to register cuBLAS factory: Attempting to register factory for plugin cuBLAS when one has already been registered\n"
     ]
    }
   ],
   "source": [
    "import tensorflow\n",
    "from tensorflow import keras\n",
    "from tensorflow.keras import Sequential\n",
    "from tensorflow.keras.layers import Dense\n",
    "\n"
   ]
  },
  {
   "cell_type": "code",
   "execution_count": 24,
   "id": "24d95bcb",
   "metadata": {
    "execution": {
     "iopub.execute_input": "2025-06-19T08:42:55.598180Z",
     "iopub.status.busy": "2025-06-19T08:42:55.597063Z",
     "iopub.status.idle": "2025-06-19T08:42:55.692739Z",
     "shell.execute_reply": "2025-06-19T08:42:55.691697Z"
    },
    "papermill": {
     "duration": 0.109425,
     "end_time": "2025-06-19T08:42:55.694211",
     "exception": false,
     "start_time": "2025-06-19T08:42:55.584786",
     "status": "completed"
    },
    "tags": []
   },
   "outputs": [
    {
     "name": "stderr",
     "output_type": "stream",
     "text": [
      "/usr/local/lib/python3.11/dist-packages/keras/src/layers/core/dense.py:87: UserWarning: Do not pass an `input_shape`/`input_dim` argument to a layer. When using Sequential models, prefer using an `Input(shape)` object as the first layer in the model instead.\n",
      "  super().__init__(activity_regularizer=activity_regularizer, **kwargs)\n",
      "2025-06-19 08:42:55.607979: E external/local_xla/xla/stream_executor/cuda/cuda_driver.cc:152] failed call to cuInit: INTERNAL: CUDA error: Failed call to cuInit: UNKNOWN ERROR (303)\n"
     ]
    }
   ],
   "source": [
    "#model = Sequential()\n",
    "#model.add( Dense(3,activation='relu',input_dim=11))\n",
    "#model.add( Dense(1,activation='sigmoid'))\n",
    "\n",
    "# optimising code\n",
    "model = Sequential()\n",
    "model.add(Dense(11,activation='sigmoid',input_dim=11))\n",
    "model.add(Dense(11,activation='sigmoid'))\n",
    "model.add(Dense(1,activation='sigmoid'))"
   ]
  },
  {
   "cell_type": "code",
   "execution_count": 25,
   "id": "4b49d99d",
   "metadata": {
    "execution": {
     "iopub.execute_input": "2025-06-19T08:42:55.717067Z",
     "iopub.status.busy": "2025-06-19T08:42:55.716754Z",
     "iopub.status.idle": "2025-06-19T08:42:55.733196Z",
     "shell.execute_reply": "2025-06-19T08:42:55.732311Z"
    },
    "papermill": {
     "duration": 0.029424,
     "end_time": "2025-06-19T08:42:55.734497",
     "exception": false,
     "start_time": "2025-06-19T08:42:55.705073",
     "status": "completed"
    },
    "tags": []
   },
   "outputs": [
    {
     "data": {
      "text/html": [
       "<pre style=\"white-space:pre;overflow-x:auto;line-height:normal;font-family:Menlo,'DejaVu Sans Mono',consolas,'Courier New',monospace\"><span style=\"font-weight: bold\">Model: \"sequential\"</span>\n",
       "</pre>\n"
      ],
      "text/plain": [
       "\u001b[1mModel: \"sequential\"\u001b[0m\n"
      ]
     },
     "metadata": {},
     "output_type": "display_data"
    },
    {
     "data": {
      "text/html": [
       "<pre style=\"white-space:pre;overflow-x:auto;line-height:normal;font-family:Menlo,'DejaVu Sans Mono',consolas,'Courier New',monospace\">┏━━━━━━━━━━━━━━━━━━━━━━━━━━━━━━━━━━━━━━┳━━━━━━━━━━━━━━━━━━━━━━━━━━━━━┳━━━━━━━━━━━━━━━━━┓\n",
       "┃<span style=\"font-weight: bold\"> Layer (type)                         </span>┃<span style=\"font-weight: bold\"> Output Shape                </span>┃<span style=\"font-weight: bold\">         Param # </span>┃\n",
       "┡━━━━━━━━━━━━━━━━━━━━━━━━━━━━━━━━━━━━━━╇━━━━━━━━━━━━━━━━━━━━━━━━━━━━━╇━━━━━━━━━━━━━━━━━┩\n",
       "│ dense (<span style=\"color: #0087ff; text-decoration-color: #0087ff\">Dense</span>)                        │ (<span style=\"color: #00d7ff; text-decoration-color: #00d7ff\">None</span>, <span style=\"color: #00af00; text-decoration-color: #00af00\">11</span>)                  │             <span style=\"color: #00af00; text-decoration-color: #00af00\">132</span> │\n",
       "├──────────────────────────────────────┼─────────────────────────────┼─────────────────┤\n",
       "│ dense_1 (<span style=\"color: #0087ff; text-decoration-color: #0087ff\">Dense</span>)                      │ (<span style=\"color: #00d7ff; text-decoration-color: #00d7ff\">None</span>, <span style=\"color: #00af00; text-decoration-color: #00af00\">11</span>)                  │             <span style=\"color: #00af00; text-decoration-color: #00af00\">132</span> │\n",
       "├──────────────────────────────────────┼─────────────────────────────┼─────────────────┤\n",
       "│ dense_2 (<span style=\"color: #0087ff; text-decoration-color: #0087ff\">Dense</span>)                      │ (<span style=\"color: #00d7ff; text-decoration-color: #00d7ff\">None</span>, <span style=\"color: #00af00; text-decoration-color: #00af00\">1</span>)                   │              <span style=\"color: #00af00; text-decoration-color: #00af00\">12</span> │\n",
       "└──────────────────────────────────────┴─────────────────────────────┴─────────────────┘\n",
       "</pre>\n"
      ],
      "text/plain": [
       "┏━━━━━━━━━━━━━━━━━━━━━━━━━━━━━━━━━━━━━━┳━━━━━━━━━━━━━━━━━━━━━━━━━━━━━┳━━━━━━━━━━━━━━━━━┓\n",
       "┃\u001b[1m \u001b[0m\u001b[1mLayer (type)                        \u001b[0m\u001b[1m \u001b[0m┃\u001b[1m \u001b[0m\u001b[1mOutput Shape               \u001b[0m\u001b[1m \u001b[0m┃\u001b[1m \u001b[0m\u001b[1m        Param #\u001b[0m\u001b[1m \u001b[0m┃\n",
       "┡━━━━━━━━━━━━━━━━━━━━━━━━━━━━━━━━━━━━━━╇━━━━━━━━━━━━━━━━━━━━━━━━━━━━━╇━━━━━━━━━━━━━━━━━┩\n",
       "│ dense (\u001b[38;5;33mDense\u001b[0m)                        │ (\u001b[38;5;45mNone\u001b[0m, \u001b[38;5;34m11\u001b[0m)                  │             \u001b[38;5;34m132\u001b[0m │\n",
       "├──────────────────────────────────────┼─────────────────────────────┼─────────────────┤\n",
       "│ dense_1 (\u001b[38;5;33mDense\u001b[0m)                      │ (\u001b[38;5;45mNone\u001b[0m, \u001b[38;5;34m11\u001b[0m)                  │             \u001b[38;5;34m132\u001b[0m │\n",
       "├──────────────────────────────────────┼─────────────────────────────┼─────────────────┤\n",
       "│ dense_2 (\u001b[38;5;33mDense\u001b[0m)                      │ (\u001b[38;5;45mNone\u001b[0m, \u001b[38;5;34m1\u001b[0m)                   │              \u001b[38;5;34m12\u001b[0m │\n",
       "└──────────────────────────────────────┴─────────────────────────────┴─────────────────┘\n"
      ]
     },
     "metadata": {},
     "output_type": "display_data"
    },
    {
     "data": {
      "text/html": [
       "<pre style=\"white-space:pre;overflow-x:auto;line-height:normal;font-family:Menlo,'DejaVu Sans Mono',consolas,'Courier New',monospace\"><span style=\"font-weight: bold\"> Total params: </span><span style=\"color: #00af00; text-decoration-color: #00af00\">276</span> (1.08 KB)\n",
       "</pre>\n"
      ],
      "text/plain": [
       "\u001b[1m Total params: \u001b[0m\u001b[38;5;34m276\u001b[0m (1.08 KB)\n"
      ]
     },
     "metadata": {},
     "output_type": "display_data"
    },
    {
     "data": {
      "text/html": [
       "<pre style=\"white-space:pre;overflow-x:auto;line-height:normal;font-family:Menlo,'DejaVu Sans Mono',consolas,'Courier New',monospace\"><span style=\"font-weight: bold\"> Trainable params: </span><span style=\"color: #00af00; text-decoration-color: #00af00\">276</span> (1.08 KB)\n",
       "</pre>\n"
      ],
      "text/plain": [
       "\u001b[1m Trainable params: \u001b[0m\u001b[38;5;34m276\u001b[0m (1.08 KB)\n"
      ]
     },
     "metadata": {},
     "output_type": "display_data"
    },
    {
     "data": {
      "text/html": [
       "<pre style=\"white-space:pre;overflow-x:auto;line-height:normal;font-family:Menlo,'DejaVu Sans Mono',consolas,'Courier New',monospace\"><span style=\"font-weight: bold\"> Non-trainable params: </span><span style=\"color: #00af00; text-decoration-color: #00af00\">0</span> (0.00 B)\n",
       "</pre>\n"
      ],
      "text/plain": [
       "\u001b[1m Non-trainable params: \u001b[0m\u001b[38;5;34m0\u001b[0m (0.00 B)\n"
      ]
     },
     "metadata": {},
     "output_type": "display_data"
    }
   ],
   "source": [
    "model.summary()"
   ]
  },
  {
   "attachments": {
    "91102389-b70b-46e8-bac4-4658efa39d3a.png": {
     "image/png": "[encoded data removed]"
    }
   },
   "cell_type": "markdown",
   "id": "6db3a95d",
   "metadata": {
    "papermill": {
     "duration": 0.0109,
     "end_time": "2025-06-19T08:42:55.756783",
     "exception": false,
     "start_time": "2025-06-19T08:42:55.745883",
     "status": "completed"
    },
    "tags": []
   },
   "source": [
    "![image.png](attachment:91102389-b70b-46e8-bac4-4658efa39d3a.png)"
   ]
  },
  {
   "cell_type": "code",
   "execution_count": 26,
   "id": "efc3c4e8",
   "metadata": {
    "execution": {
     "iopub.execute_input": "2025-06-19T08:42:55.780341Z",
     "iopub.status.busy": "2025-06-19T08:42:55.780054Z",
     "iopub.status.idle": "2025-06-19T08:42:55.796271Z",
     "shell.execute_reply": "2025-06-19T08:42:55.795546Z"
    },
    "papermill": {
     "duration": 0.029805,
     "end_time": "2025-06-19T08:42:55.797791",
     "exception": false,
     "start_time": "2025-06-19T08:42:55.767986",
     "status": "completed"
    },
    "tags": []
   },
   "outputs": [],
   "source": [
    "#compilation\n",
    "model.compile(loss = 'binary_crossentropy',optimizer='Adam',metrics=['Accuracy'])\n",
    "\n"
   ]
  },
  {
   "cell_type": "code",
   "execution_count": 27,
   "id": "79f6922a",
   "metadata": {
    "execution": {
     "iopub.execute_input": "2025-06-19T08:42:55.821689Z",
     "iopub.status.busy": "2025-06-19T08:42:55.820835Z",
     "iopub.status.idle": "2025-06-19T08:43:31.928510Z",
     "shell.execute_reply": "2025-06-19T08:43:31.927574Z"
    },
    "papermill": {
     "duration": 36.121292,
     "end_time": "2025-06-19T08:43:31.930231",
     "exception": false,
     "start_time": "2025-06-19T08:42:55.808939",
     "status": "completed"
    },
    "tags": []
   },
   "outputs": [
    {
     "name": "stdout",
     "output_type": "stream",
     "text": [
      "Epoch 1/100\n",
      "\u001b[1m128/128\u001b[0m \u001b[32m━━━━━━━━━━━━━━━━━━━━\u001b[0m\u001b[37m\u001b[0m \u001b[1m2s\u001b[0m 4ms/step - Accuracy: 0.7975 - loss: 0.5855 - val_Accuracy: 0.7975 - val_loss: 0.5044\n",
      "Epoch 2/100\n",
      "\u001b[1m128/128\u001b[0m \u001b[32m━━━━━━━━━━━━━━━━━━━━\u001b[0m\u001b[37m\u001b[0m \u001b[1m0s\u001b[0m 3ms/step - Accuracy: 0.7905 - loss: 0.5092 - val_Accuracy: 0.7975 - val_loss: 0.4979\n",
      "Epoch 3/100\n",
      "\u001b[1m128/128\u001b[0m \u001b[32m━━━━━━━━━━━━━━━━━━━━\u001b[0m\u001b[37m\u001b[0m \u001b[1m0s\u001b[0m 2ms/step - Accuracy: 0.7899 - loss: 0.5083 - val_Accuracy: 0.7975 - val_loss: 0.4973\n",
      "Epoch 4/100\n",
      "\u001b[1m128/128\u001b[0m \u001b[32m━━━━━━━━━━━━━━━━━━━━\u001b[0m\u001b[37m\u001b[0m \u001b[1m0s\u001b[0m 2ms/step - Accuracy: 0.7981 - loss: 0.4985 - val_Accuracy: 0.7975 - val_loss: 0.4973\n",
      "Epoch 5/100\n",
      "\u001b[1m128/128\u001b[0m \u001b[32m━━━━━━━━━━━━━━━━━━━━\u001b[0m\u001b[37m\u001b[0m \u001b[1m0s\u001b[0m 2ms/step - Accuracy: 0.7888 - loss: 0.5098 - val_Accuracy: 0.7975 - val_loss: 0.4971\n",
      "Epoch 6/100\n",
      "\u001b[1m128/128\u001b[0m \u001b[32m━━━━━━━━━━━━━━━━━━━━\u001b[0m\u001b[37m\u001b[0m \u001b[1m0s\u001b[0m 3ms/step - Accuracy: 0.7925 - loss: 0.5046 - val_Accuracy: 0.7975 - val_loss: 0.4965\n",
      "Epoch 7/100\n",
      "\u001b[1m128/128\u001b[0m \u001b[32m━━━━━━━━━━━━━━━━━━━━\u001b[0m\u001b[37m\u001b[0m \u001b[1m0s\u001b[0m 3ms/step - Accuracy: 0.7897 - loss: 0.5089 - val_Accuracy: 0.7975 - val_loss: 0.4963\n",
      "Epoch 8/100\n",
      "\u001b[1m128/128\u001b[0m \u001b[32m━━━━━━━━━━━━━━━━━━━━\u001b[0m\u001b[37m\u001b[0m \u001b[1m0s\u001b[0m 3ms/step - Accuracy: 0.8002 - loss: 0.4932 - val_Accuracy: 0.7975 - val_loss: 0.4962\n",
      "Epoch 9/100\n",
      "\u001b[1m128/128\u001b[0m \u001b[32m━━━━━━━━━━━━━━━━━━━━\u001b[0m\u001b[37m\u001b[0m \u001b[1m0s\u001b[0m 3ms/step - Accuracy: 0.7975 - loss: 0.4954 - val_Accuracy: 0.7975 - val_loss: 0.4960\n",
      "Epoch 10/100\n",
      "\u001b[1m128/128\u001b[0m \u001b[32m━━━━━━━━━━━━━━━━━━━━\u001b[0m\u001b[37m\u001b[0m \u001b[1m0s\u001b[0m 3ms/step - Accuracy: 0.7948 - loss: 0.4993 - val_Accuracy: 0.7975 - val_loss: 0.4960\n",
      "Epoch 11/100\n",
      "\u001b[1m128/128\u001b[0m \u001b[32m━━━━━━━━━━━━━━━━━━━━\u001b[0m\u001b[37m\u001b[0m \u001b[1m0s\u001b[0m 2ms/step - Accuracy: 0.7916 - loss: 0.5049 - val_Accuracy: 0.7975 - val_loss: 0.4960\n",
      "Epoch 12/100\n",
      "\u001b[1m128/128\u001b[0m \u001b[32m━━━━━━━━━━━━━━━━━━━━\u001b[0m\u001b[37m\u001b[0m \u001b[1m0s\u001b[0m 2ms/step - Accuracy: 0.7967 - loss: 0.4964 - val_Accuracy: 0.7975 - val_loss: 0.4960\n",
      "Epoch 13/100\n",
      "\u001b[1m128/128\u001b[0m \u001b[32m━━━━━━━━━━━━━━━━━━━━\u001b[0m\u001b[37m\u001b[0m \u001b[1m0s\u001b[0m 2ms/step - Accuracy: 0.7913 - loss: 0.5071 - val_Accuracy: 0.7975 - val_loss: 0.4960\n",
      "Epoch 14/100\n",
      "\u001b[1m128/128\u001b[0m \u001b[32m━━━━━━━━━━━━━━━━━━━━\u001b[0m\u001b[37m\u001b[0m \u001b[1m0s\u001b[0m 2ms/step - Accuracy: 0.7979 - loss: 0.4965 - val_Accuracy: 0.7975 - val_loss: 0.4959\n",
      "Epoch 15/100\n",
      "\u001b[1m128/128\u001b[0m \u001b[32m━━━━━━━━━━━━━━━━━━━━\u001b[0m\u001b[37m\u001b[0m \u001b[1m0s\u001b[0m 3ms/step - Accuracy: 0.8018 - loss: 0.4898 - val_Accuracy: 0.7975 - val_loss: 0.4959\n",
      "Epoch 16/100\n",
      "\u001b[1m128/128\u001b[0m \u001b[32m━━━━━━━━━━━━━━━━━━━━\u001b[0m\u001b[37m\u001b[0m \u001b[1m0s\u001b[0m 2ms/step - Accuracy: 0.7896 - loss: 0.5066 - val_Accuracy: 0.7975 - val_loss: 0.4959\n",
      "Epoch 17/100\n",
      "\u001b[1m128/128\u001b[0m \u001b[32m━━━━━━━━━━━━━━━━━━━━\u001b[0m\u001b[37m\u001b[0m \u001b[1m0s\u001b[0m 2ms/step - Accuracy: 0.7972 - loss: 0.4985 - val_Accuracy: 0.7975 - val_loss: 0.4959\n",
      "Epoch 18/100\n",
      "\u001b[1m128/128\u001b[0m \u001b[32m━━━━━━━━━━━━━━━━━━━━\u001b[0m\u001b[37m\u001b[0m \u001b[1m0s\u001b[0m 2ms/step - Accuracy: 0.7943 - loss: 0.4990 - val_Accuracy: 0.7975 - val_loss: 0.4959\n",
      "Epoch 19/100\n",
      "\u001b[1m128/128\u001b[0m \u001b[32m━━━━━━━━━━━━━━━━━━━━\u001b[0m\u001b[37m\u001b[0m \u001b[1m0s\u001b[0m 2ms/step - Accuracy: 0.7928 - loss: 0.5008 - val_Accuracy: 0.7975 - val_loss: 0.4960\n",
      "Epoch 20/100\n",
      "\u001b[1m128/128\u001b[0m \u001b[32m━━━━━━━━━━━━━━━━━━━━\u001b[0m\u001b[37m\u001b[0m \u001b[1m0s\u001b[0m 2ms/step - Accuracy: 0.7997 - loss: 0.4953 - val_Accuracy: 0.7975 - val_loss: 0.4959\n",
      "Epoch 21/100\n",
      "\u001b[1m128/128\u001b[0m \u001b[32m━━━━━━━━━━━━━━━━━━━━\u001b[0m\u001b[37m\u001b[0m \u001b[1m0s\u001b[0m 2ms/step - Accuracy: 0.8005 - loss: 0.4916 - val_Accuracy: 0.7975 - val_loss: 0.4959\n",
      "Epoch 22/100\n",
      "\u001b[1m128/128\u001b[0m \u001b[32m━━━━━━━━━━━━━━━━━━━━\u001b[0m\u001b[37m\u001b[0m \u001b[1m0s\u001b[0m 2ms/step - Accuracy: 0.7963 - loss: 0.4957 - val_Accuracy: 0.7975 - val_loss: 0.4958\n",
      "Epoch 23/100\n",
      "\u001b[1m128/128\u001b[0m \u001b[32m━━━━━━━━━━━━━━━━━━━━\u001b[0m\u001b[37m\u001b[0m \u001b[1m0s\u001b[0m 2ms/step - Accuracy: 0.8010 - loss: 0.4906 - val_Accuracy: 0.7975 - val_loss: 0.4959\n",
      "Epoch 24/100\n",
      "\u001b[1m128/128\u001b[0m \u001b[32m━━━━━━━━━━━━━━━━━━━━\u001b[0m\u001b[37m\u001b[0m \u001b[1m0s\u001b[0m 2ms/step - Accuracy: 0.7977 - loss: 0.4973 - val_Accuracy: 0.7975 - val_loss: 0.4957\n",
      "Epoch 25/100\n",
      "\u001b[1m128/128\u001b[0m \u001b[32m━━━━━━━━━━━━━━━━━━━━\u001b[0m\u001b[37m\u001b[0m \u001b[1m0s\u001b[0m 2ms/step - Accuracy: 0.7964 - loss: 0.4978 - val_Accuracy: 0.7975 - val_loss: 0.4957\n",
      "Epoch 26/100\n",
      "\u001b[1m128/128\u001b[0m \u001b[32m━━━━━━━━━━━━━━━━━━━━\u001b[0m\u001b[37m\u001b[0m \u001b[1m0s\u001b[0m 2ms/step - Accuracy: 0.8007 - loss: 0.4933 - val_Accuracy: 0.7975 - val_loss: 0.4958\n",
      "Epoch 27/100\n",
      "\u001b[1m128/128\u001b[0m \u001b[32m━━━━━━━━━━━━━━━━━━━━\u001b[0m\u001b[37m\u001b[0m \u001b[1m0s\u001b[0m 2ms/step - Accuracy: 0.7980 - loss: 0.4957 - val_Accuracy: 0.7975 - val_loss: 0.4957\n",
      "Epoch 28/100\n",
      "\u001b[1m128/128\u001b[0m \u001b[32m━━━━━━━━━━━━━━━━━━━━\u001b[0m\u001b[37m\u001b[0m \u001b[1m0s\u001b[0m 2ms/step - Accuracy: 0.7985 - loss: 0.4943 - val_Accuracy: 0.7975 - val_loss: 0.4957\n",
      "Epoch 29/100\n",
      "\u001b[1m128/128\u001b[0m \u001b[32m━━━━━━━━━━━━━━━━━━━━\u001b[0m\u001b[37m\u001b[0m \u001b[1m0s\u001b[0m 2ms/step - Accuracy: 0.7940 - loss: 0.5010 - val_Accuracy: 0.7975 - val_loss: 0.4957\n",
      "Epoch 30/100\n",
      "\u001b[1m128/128\u001b[0m \u001b[32m━━━━━━━━━━━━━━━━━━━━\u001b[0m\u001b[37m\u001b[0m \u001b[1m0s\u001b[0m 3ms/step - Accuracy: 0.7959 - loss: 0.4990 - val_Accuracy: 0.7975 - val_loss: 0.4957\n",
      "Epoch 31/100\n",
      "\u001b[1m128/128\u001b[0m \u001b[32m━━━━━━━━━━━━━━━━━━━━\u001b[0m\u001b[37m\u001b[0m \u001b[1m0s\u001b[0m 3ms/step - Accuracy: 0.8018 - loss: 0.4897 - val_Accuracy: 0.7975 - val_loss: 0.4957\n",
      "Epoch 32/100\n",
      "\u001b[1m128/128\u001b[0m \u001b[32m━━━━━━━━━━━━━━━━━━━━\u001b[0m\u001b[37m\u001b[0m \u001b[1m0s\u001b[0m 2ms/step - Accuracy: 0.7983 - loss: 0.4950 - val_Accuracy: 0.7975 - val_loss: 0.4957\n",
      "Epoch 33/100\n",
      "\u001b[1m128/128\u001b[0m \u001b[32m━━━━━━━━━━━━━━━━━━━━\u001b[0m\u001b[37m\u001b[0m \u001b[1m0s\u001b[0m 2ms/step - Accuracy: 0.8044 - loss: 0.4861 - val_Accuracy: 0.7975 - val_loss: 0.4958\n",
      "Epoch 34/100\n",
      "\u001b[1m128/128\u001b[0m \u001b[32m━━━━━━━━━━━━━━━━━━━━\u001b[0m\u001b[37m\u001b[0m \u001b[1m0s\u001b[0m 2ms/step - Accuracy: 0.7985 - loss: 0.4954 - val_Accuracy: 0.7975 - val_loss: 0.4958\n",
      "Epoch 35/100\n",
      "\u001b[1m128/128\u001b[0m \u001b[32m━━━━━━━━━━━━━━━━━━━━\u001b[0m\u001b[37m\u001b[0m \u001b[1m0s\u001b[0m 3ms/step - Accuracy: 0.7957 - loss: 0.5014 - val_Accuracy: 0.7975 - val_loss: 0.4958\n",
      "Epoch 36/100\n",
      "\u001b[1m128/128\u001b[0m \u001b[32m━━━━━━━━━━━━━━━━━━━━\u001b[0m\u001b[37m\u001b[0m \u001b[1m0s\u001b[0m 3ms/step - Accuracy: 0.7973 - loss: 0.4966 - val_Accuracy: 0.7975 - val_loss: 0.4959\n",
      "Epoch 37/100\n",
      "\u001b[1m128/128\u001b[0m \u001b[32m━━━━━━━━━━━━━━━━━━━━\u001b[0m\u001b[37m\u001b[0m \u001b[1m0s\u001b[0m 2ms/step - Accuracy: 0.7957 - loss: 0.4981 - val_Accuracy: 0.7975 - val_loss: 0.4958\n",
      "Epoch 38/100\n",
      "\u001b[1m128/128\u001b[0m \u001b[32m━━━━━━━━━━━━━━━━━━━━\u001b[0m\u001b[37m\u001b[0m \u001b[1m0s\u001b[0m 2ms/step - Accuracy: 0.7897 - loss: 0.5085 - val_Accuracy: 0.7975 - val_loss: 0.4959\n",
      "Epoch 39/100\n",
      "\u001b[1m128/128\u001b[0m \u001b[32m━━━━━━━━━━━━━━━━━━━━\u001b[0m\u001b[37m\u001b[0m \u001b[1m0s\u001b[0m 3ms/step - Accuracy: 0.8016 - loss: 0.4919 - val_Accuracy: 0.7975 - val_loss: 0.4958\n",
      "Epoch 40/100\n",
      "\u001b[1m128/128\u001b[0m \u001b[32m━━━━━━━━━━━━━━━━━━━━\u001b[0m\u001b[37m\u001b[0m \u001b[1m0s\u001b[0m 2ms/step - Accuracy: 0.8009 - loss: 0.4918 - val_Accuracy: 0.7975 - val_loss: 0.4959\n",
      "Epoch 41/100\n",
      "\u001b[1m128/128\u001b[0m \u001b[32m━━━━━━━━━━━━━━━━━━━━\u001b[0m\u001b[37m\u001b[0m \u001b[1m0s\u001b[0m 2ms/step - Accuracy: 0.7922 - loss: 0.5043 - val_Accuracy: 0.7975 - val_loss: 0.4959\n",
      "Epoch 42/100\n",
      "\u001b[1m128/128\u001b[0m \u001b[32m━━━━━━━━━━━━━━━━━━━━\u001b[0m\u001b[37m\u001b[0m \u001b[1m0s\u001b[0m 2ms/step - Accuracy: 0.8097 - loss: 0.4774 - val_Accuracy: 0.7975 - val_loss: 0.4963\n",
      "Epoch 43/100\n",
      "\u001b[1m128/128\u001b[0m \u001b[32m━━━━━━━━━━━━━━━━━━━━\u001b[0m\u001b[37m\u001b[0m \u001b[1m0s\u001b[0m 2ms/step - Accuracy: 0.7995 - loss: 0.4951 - val_Accuracy: 0.7975 - val_loss: 0.4959\n",
      "Epoch 44/100\n",
      "\u001b[1m128/128\u001b[0m \u001b[32m━━━━━━━━━━━━━━━━━━━━\u001b[0m\u001b[37m\u001b[0m \u001b[1m0s\u001b[0m 2ms/step - Accuracy: 0.7950 - loss: 0.4992 - val_Accuracy: 0.7975 - val_loss: 0.4962\n",
      "Epoch 45/100\n",
      "\u001b[1m128/128\u001b[0m \u001b[32m━━━━━━━━━━━━━━━━━━━━\u001b[0m\u001b[37m\u001b[0m \u001b[1m0s\u001b[0m 3ms/step - Accuracy: 0.7925 - loss: 0.5001 - val_Accuracy: 0.7975 - val_loss: 0.4962\n",
      "Epoch 46/100\n",
      "\u001b[1m128/128\u001b[0m \u001b[32m━━━━━━━━━━━━━━━━━━━━\u001b[0m\u001b[37m\u001b[0m \u001b[1m0s\u001b[0m 2ms/step - Accuracy: 0.7954 - loss: 0.4999 - val_Accuracy: 0.7975 - val_loss: 0.4962\n",
      "Epoch 47/100\n",
      "\u001b[1m128/128\u001b[0m \u001b[32m━━━━━━━━━━━━━━━━━━━━\u001b[0m\u001b[37m\u001b[0m \u001b[1m0s\u001b[0m 2ms/step - Accuracy: 0.8030 - loss: 0.4882 - val_Accuracy: 0.7975 - val_loss: 0.4961\n",
      "Epoch 48/100\n",
      "\u001b[1m128/128\u001b[0m \u001b[32m━━━━━━━━━━━━━━━━━━━━\u001b[0m\u001b[37m\u001b[0m \u001b[1m0s\u001b[0m 2ms/step - Accuracy: 0.8027 - loss: 0.4889 - val_Accuracy: 0.7975 - val_loss: 0.4961\n",
      "Epoch 49/100\n",
      "\u001b[1m128/128\u001b[0m \u001b[32m━━━━━━━━━━━━━━━━━━━━\u001b[0m\u001b[37m\u001b[0m \u001b[1m0s\u001b[0m 2ms/step - Accuracy: 0.8024 - loss: 0.4890 - val_Accuracy: 0.7975 - val_loss: 0.4961\n",
      "Epoch 50/100\n",
      "\u001b[1m128/128\u001b[0m \u001b[32m━━━━━━━━━━━━━━━━━━━━\u001b[0m\u001b[37m\u001b[0m \u001b[1m0s\u001b[0m 2ms/step - Accuracy: 0.7968 - loss: 0.4973 - val_Accuracy: 0.7975 - val_loss: 0.4961\n",
      "Epoch 51/100\n",
      "\u001b[1m128/128\u001b[0m \u001b[32m━━━━━━━━━━━━━━━━━━━━\u001b[0m\u001b[37m\u001b[0m \u001b[1m0s\u001b[0m 2ms/step - Accuracy: 0.8010 - loss: 0.4914 - val_Accuracy: 0.7975 - val_loss: 0.4961\n",
      "Epoch 52/100\n",
      "\u001b[1m128/128\u001b[0m \u001b[32m━━━━━━━━━━━━━━━━━━━━\u001b[0m\u001b[37m\u001b[0m \u001b[1m0s\u001b[0m 2ms/step - Accuracy: 0.7904 - loss: 0.5025 - val_Accuracy: 0.7975 - val_loss: 0.4961\n",
      "Epoch 53/100\n",
      "\u001b[1m128/128\u001b[0m \u001b[32m━━━━━━━━━━━━━━━━━━━━\u001b[0m\u001b[37m\u001b[0m \u001b[1m0s\u001b[0m 2ms/step - Accuracy: 0.7968 - loss: 0.4975 - val_Accuracy: 0.7975 - val_loss: 0.4961\n",
      "Epoch 54/100\n",
      "\u001b[1m128/128\u001b[0m \u001b[32m━━━━━━━━━━━━━━━━━━━━\u001b[0m\u001b[37m\u001b[0m \u001b[1m0s\u001b[0m 3ms/step - Accuracy: 0.7923 - loss: 0.5045 - val_Accuracy: 0.7975 - val_loss: 0.4961\n",
      "Epoch 55/100\n",
      "\u001b[1m128/128\u001b[0m \u001b[32m━━━━━━━━━━━━━━━━━━━━\u001b[0m\u001b[37m\u001b[0m \u001b[1m0s\u001b[0m 2ms/step - Accuracy: 0.7962 - loss: 0.4983 - val_Accuracy: 0.7975 - val_loss: 0.4961\n",
      "Epoch 56/100\n",
      "\u001b[1m128/128\u001b[0m \u001b[32m━━━━━━━━━━━━━━━━━━━━\u001b[0m\u001b[37m\u001b[0m \u001b[1m0s\u001b[0m 2ms/step - Accuracy: 0.8050 - loss: 0.4866 - val_Accuracy: 0.7975 - val_loss: 0.4961\n",
      "Epoch 57/100\n",
      "\u001b[1m128/128\u001b[0m \u001b[32m━━━━━━━━━━━━━━━━━━━━\u001b[0m\u001b[37m\u001b[0m \u001b[1m0s\u001b[0m 2ms/step - Accuracy: 0.7972 - loss: 0.4956 - val_Accuracy: 0.7975 - val_loss: 0.4961\n",
      "Epoch 58/100\n",
      "\u001b[1m128/128\u001b[0m \u001b[32m━━━━━━━━━━━━━━━━━━━━\u001b[0m\u001b[37m\u001b[0m \u001b[1m0s\u001b[0m 2ms/step - Accuracy: 0.8021 - loss: 0.4880 - val_Accuracy: 0.7975 - val_loss: 0.4961\n",
      "Epoch 59/100\n",
      "\u001b[1m128/128\u001b[0m \u001b[32m━━━━━━━━━━━━━━━━━━━━\u001b[0m\u001b[37m\u001b[0m \u001b[1m0s\u001b[0m 2ms/step - Accuracy: 0.8032 - loss: 0.4889 - val_Accuracy: 0.7975 - val_loss: 0.4961\n",
      "Epoch 60/100\n",
      "\u001b[1m128/128\u001b[0m \u001b[32m━━━━━━━━━━━━━━━━━━━━\u001b[0m\u001b[37m\u001b[0m \u001b[1m0s\u001b[0m 2ms/step - Accuracy: 0.7863 - loss: 0.5125 - val_Accuracy: 0.7975 - val_loss: 0.4961\n",
      "Epoch 61/100\n",
      "\u001b[1m128/128\u001b[0m \u001b[32m━━━━━━━━━━━━━━━━━━━━\u001b[0m\u001b[37m\u001b[0m \u001b[1m0s\u001b[0m 3ms/step - Accuracy: 0.7929 - loss: 0.5023 - val_Accuracy: 0.7975 - val_loss: 0.4961\n",
      "Epoch 62/100\n",
      "\u001b[1m128/128\u001b[0m \u001b[32m━━━━━━━━━━━━━━━━━━━━\u001b[0m\u001b[37m\u001b[0m \u001b[1m0s\u001b[0m 2ms/step - Accuracy: 0.8000 - loss: 0.4912 - val_Accuracy: 0.7975 - val_loss: 0.4962\n",
      "Epoch 63/100\n",
      "\u001b[1m128/128\u001b[0m \u001b[32m━━━━━━━━━━━━━━━━━━━━\u001b[0m\u001b[37m\u001b[0m \u001b[1m0s\u001b[0m 3ms/step - Accuracy: 0.8018 - loss: 0.4910 - val_Accuracy: 0.7975 - val_loss: 0.4961\n",
      "Epoch 64/100\n",
      "\u001b[1m128/128\u001b[0m \u001b[32m━━━━━━━━━━━━━━━━━━━━\u001b[0m\u001b[37m\u001b[0m \u001b[1m0s\u001b[0m 2ms/step - Accuracy: 0.7987 - loss: 0.4946 - val_Accuracy: 0.7975 - val_loss: 0.4962\n",
      "Epoch 65/100\n",
      "\u001b[1m128/128\u001b[0m \u001b[32m━━━━━━━━━━━━━━━━━━━━\u001b[0m\u001b[37m\u001b[0m \u001b[1m0s\u001b[0m 2ms/step - Accuracy: 0.7949 - loss: 0.4988 - val_Accuracy: 0.7975 - val_loss: 0.4962\n",
      "Epoch 66/100\n",
      "\u001b[1m128/128\u001b[0m \u001b[32m━━━━━━━━━━━━━━━━━━━━\u001b[0m\u001b[37m\u001b[0m \u001b[1m0s\u001b[0m 2ms/step - Accuracy: 0.8021 - loss: 0.4896 - val_Accuracy: 0.7975 - val_loss: 0.4963\n",
      "Epoch 67/100\n",
      "\u001b[1m128/128\u001b[0m \u001b[32m━━━━━━━━━━━━━━━━━━━━\u001b[0m\u001b[37m\u001b[0m \u001b[1m0s\u001b[0m 2ms/step - Accuracy: 0.7968 - loss: 0.4981 - val_Accuracy: 0.7975 - val_loss: 0.4961\n",
      "Epoch 68/100\n",
      "\u001b[1m128/128\u001b[0m \u001b[32m━━━━━━━━━━━━━━━━━━━━\u001b[0m\u001b[37m\u001b[0m \u001b[1m0s\u001b[0m 2ms/step - Accuracy: 0.7943 - loss: 0.5009 - val_Accuracy: 0.7975 - val_loss: 0.4960\n",
      "Epoch 69/100\n",
      "\u001b[1m128/128\u001b[0m \u001b[32m━━━━━━━━━━━━━━━━━━━━\u001b[0m\u001b[37m\u001b[0m \u001b[1m0s\u001b[0m 2ms/step - Accuracy: 0.7861 - loss: 0.5108 - val_Accuracy: 0.7975 - val_loss: 0.4963\n",
      "Epoch 70/100\n",
      "\u001b[1m128/128\u001b[0m \u001b[32m━━━━━━━━━━━━━━━━━━━━\u001b[0m\u001b[37m\u001b[0m \u001b[1m0s\u001b[0m 2ms/step - Accuracy: 0.7894 - loss: 0.5074 - val_Accuracy: 0.7975 - val_loss: 0.4961\n",
      "Epoch 71/100\n",
      "\u001b[1m128/128\u001b[0m \u001b[32m━━━━━━━━━━━━━━━━━━━━\u001b[0m\u001b[37m\u001b[0m \u001b[1m0s\u001b[0m 2ms/step - Accuracy: 0.8062 - loss: 0.4875 - val_Accuracy: 0.7975 - val_loss: 0.4964\n",
      "Epoch 72/100\n",
      "\u001b[1m128/128\u001b[0m \u001b[32m━━━━━━━━━━━━━━━━━━━━\u001b[0m\u001b[37m\u001b[0m \u001b[1m0s\u001b[0m 2ms/step - Accuracy: 0.7864 - loss: 0.5083 - val_Accuracy: 0.7975 - val_loss: 0.4961\n",
      "Epoch 73/100\n",
      "\u001b[1m128/128\u001b[0m \u001b[32m━━━━━━━━━━━━━━━━━━━━\u001b[0m\u001b[37m\u001b[0m \u001b[1m0s\u001b[0m 2ms/step - Accuracy: 0.7942 - loss: 0.5002 - val_Accuracy: 0.7975 - val_loss: 0.4959\n",
      "Epoch 74/100\n",
      "\u001b[1m128/128\u001b[0m \u001b[32m━━━━━━━━━━━━━━━━━━━━\u001b[0m\u001b[37m\u001b[0m \u001b[1m0s\u001b[0m 2ms/step - Accuracy: 0.7861 - loss: 0.5128 - val_Accuracy: 0.7975 - val_loss: 0.4962\n",
      "Epoch 75/100\n",
      "\u001b[1m128/128\u001b[0m \u001b[32m━━━━━━━━━━━━━━━━━━━━\u001b[0m\u001b[37m\u001b[0m \u001b[1m0s\u001b[0m 2ms/step - Accuracy: 0.7944 - loss: 0.5005 - val_Accuracy: 0.7975 - val_loss: 0.4959\n",
      "Epoch 76/100\n",
      "\u001b[1m128/128\u001b[0m \u001b[32m━━━━━━━━━━━━━━━━━━━━\u001b[0m\u001b[37m\u001b[0m \u001b[1m0s\u001b[0m 2ms/step - Accuracy: 0.7960 - loss: 0.4971 - val_Accuracy: 0.7975 - val_loss: 0.4959\n",
      "Epoch 77/100\n",
      "\u001b[1m128/128\u001b[0m \u001b[32m━━━━━━━━━━━━━━━━━━━━\u001b[0m\u001b[37m\u001b[0m \u001b[1m0s\u001b[0m 2ms/step - Accuracy: 0.7968 - loss: 0.4998 - val_Accuracy: 0.7975 - val_loss: 0.4959\n",
      "Epoch 78/100\n",
      "\u001b[1m128/128\u001b[0m \u001b[32m━━━━━━━━━━━━━━━━━━━━\u001b[0m\u001b[37m\u001b[0m \u001b[1m0s\u001b[0m 2ms/step - Accuracy: 0.8008 - loss: 0.4933 - val_Accuracy: 0.7975 - val_loss: 0.4959\n",
      "Epoch 79/100\n",
      "\u001b[1m128/128\u001b[0m \u001b[32m━━━━━━━━━━━━━━━━━━━━\u001b[0m\u001b[37m\u001b[0m \u001b[1m0s\u001b[0m 2ms/step - Accuracy: 0.7994 - loss: 0.4947 - val_Accuracy: 0.7975 - val_loss: 0.4959\n",
      "Epoch 80/100\n",
      "\u001b[1m128/128\u001b[0m \u001b[32m━━━━━━━━━━━━━━━━━━━━\u001b[0m\u001b[37m\u001b[0m \u001b[1m0s\u001b[0m 2ms/step - Accuracy: 0.7994 - loss: 0.4929 - val_Accuracy: 0.7975 - val_loss: 0.4958\n",
      "Epoch 81/100\n",
      "\u001b[1m128/128\u001b[0m \u001b[32m━━━━━━━━━━━━━━━━━━━━\u001b[0m\u001b[37m\u001b[0m \u001b[1m0s\u001b[0m 2ms/step - Accuracy: 0.8035 - loss: 0.4874 - val_Accuracy: 0.7975 - val_loss: 0.4959\n",
      "Epoch 82/100\n",
      "\u001b[1m128/128\u001b[0m \u001b[32m━━━━━━━━━━━━━━━━━━━━\u001b[0m\u001b[37m\u001b[0m \u001b[1m0s\u001b[0m 2ms/step - Accuracy: 0.7963 - loss: 0.5006 - val_Accuracy: 0.7975 - val_loss: 0.4958\n",
      "Epoch 83/100\n",
      "\u001b[1m128/128\u001b[0m \u001b[32m━━━━━━━━━━━━━━━━━━━━\u001b[0m\u001b[37m\u001b[0m \u001b[1m0s\u001b[0m 3ms/step - Accuracy: 0.7945 - loss: 0.4992 - val_Accuracy: 0.7975 - val_loss: 0.4958\n",
      "Epoch 84/100\n",
      "\u001b[1m128/128\u001b[0m \u001b[32m━━━━━━━━━━━━━━━━━━━━\u001b[0m\u001b[37m\u001b[0m \u001b[1m0s\u001b[0m 2ms/step - Accuracy: 0.7911 - loss: 0.5025 - val_Accuracy: 0.7975 - val_loss: 0.4959\n",
      "Epoch 85/100\n",
      "\u001b[1m128/128\u001b[0m \u001b[32m━━━━━━━━━━━━━━━━━━━━\u001b[0m\u001b[37m\u001b[0m \u001b[1m0s\u001b[0m 2ms/step - Accuracy: 0.8034 - loss: 0.4882 - val_Accuracy: 0.7975 - val_loss: 0.4959\n",
      "Epoch 86/100\n",
      "\u001b[1m128/128\u001b[0m \u001b[32m━━━━━━━━━━━━━━━━━━━━\u001b[0m\u001b[37m\u001b[0m \u001b[1m0s\u001b[0m 3ms/step - Accuracy: 0.8001 - loss: 0.4912 - val_Accuracy: 0.7975 - val_loss: 0.4958\n",
      "Epoch 87/100\n",
      "\u001b[1m128/128\u001b[0m \u001b[32m━━━━━━━━━━━━━━━━━━━━\u001b[0m\u001b[37m\u001b[0m \u001b[1m0s\u001b[0m 2ms/step - Accuracy: 0.7907 - loss: 0.5059 - val_Accuracy: 0.7975 - val_loss: 0.4958\n",
      "Epoch 88/100\n",
      "\u001b[1m128/128\u001b[0m \u001b[32m━━━━━━━━━━━━━━━━━━━━\u001b[0m\u001b[37m\u001b[0m \u001b[1m0s\u001b[0m 2ms/step - Accuracy: 0.8058 - loss: 0.4857 - val_Accuracy: 0.7975 - val_loss: 0.4958\n",
      "Epoch 89/100\n",
      "\u001b[1m128/128\u001b[0m \u001b[32m━━━━━━━━━━━━━━━━━━━━\u001b[0m\u001b[37m\u001b[0m \u001b[1m0s\u001b[0m 3ms/step - Accuracy: 0.7983 - loss: 0.4974 - val_Accuracy: 0.7975 - val_loss: 0.4958\n",
      "Epoch 90/100\n",
      "\u001b[1m128/128\u001b[0m \u001b[32m━━━━━━━━━━━━━━━━━━━━\u001b[0m\u001b[37m\u001b[0m \u001b[1m0s\u001b[0m 3ms/step - Accuracy: 0.7945 - loss: 0.5012 - val_Accuracy: 0.7975 - val_loss: 0.4958\n",
      "Epoch 91/100\n",
      "\u001b[1m128/128\u001b[0m \u001b[32m━━━━━━━━━━━━━━━━━━━━\u001b[0m\u001b[37m\u001b[0m \u001b[1m0s\u001b[0m 2ms/step - Accuracy: 0.8058 - loss: 0.4867 - val_Accuracy: 0.7975 - val_loss: 0.4958\n",
      "Epoch 92/100\n",
      "\u001b[1m128/128\u001b[0m \u001b[32m━━━━━━━━━━━━━━━━━━━━\u001b[0m\u001b[37m\u001b[0m \u001b[1m0s\u001b[0m 2ms/step - Accuracy: 0.7970 - loss: 0.4975 - val_Accuracy: 0.7975 - val_loss: 0.4958\n",
      "Epoch 93/100\n",
      "\u001b[1m128/128\u001b[0m \u001b[32m━━━━━━━━━━━━━━━━━━━━\u001b[0m\u001b[37m\u001b[0m \u001b[1m0s\u001b[0m 2ms/step - Accuracy: 0.8016 - loss: 0.4883 - val_Accuracy: 0.7975 - val_loss: 0.4958\n",
      "Epoch 94/100\n",
      "\u001b[1m128/128\u001b[0m \u001b[32m━━━━━━━━━━━━━━━━━━━━\u001b[0m\u001b[37m\u001b[0m \u001b[1m0s\u001b[0m 2ms/step - Accuracy: 0.8007 - loss: 0.4936 - val_Accuracy: 0.7975 - val_loss: 0.4958\n",
      "Epoch 95/100\n",
      "\u001b[1m128/128\u001b[0m \u001b[32m━━━━━━━━━━━━━━━━━━━━\u001b[0m\u001b[37m\u001b[0m \u001b[1m0s\u001b[0m 2ms/step - Accuracy: 0.7933 - loss: 0.5018 - val_Accuracy: 0.7975 - val_loss: 0.4958\n",
      "Epoch 96/100\n",
      "\u001b[1m128/128\u001b[0m \u001b[32m━━━━━━━━━━━━━━━━━━━━\u001b[0m\u001b[37m\u001b[0m \u001b[1m0s\u001b[0m 2ms/step - Accuracy: 0.7951 - loss: 0.5004 - val_Accuracy: 0.7975 - val_loss: 0.4958\n",
      "Epoch 97/100\n",
      "\u001b[1m128/128\u001b[0m \u001b[32m━━━━━━━━━━━━━━━━━━━━\u001b[0m\u001b[37m\u001b[0m \u001b[1m0s\u001b[0m 2ms/step - Accuracy: 0.7966 - loss: 0.4984 - val_Accuracy: 0.7975 - val_loss: 0.4960\n",
      "Epoch 98/100\n",
      "\u001b[1m128/128\u001b[0m \u001b[32m━━━━━━━━━━━━━━━━━━━━\u001b[0m\u001b[37m\u001b[0m \u001b[1m0s\u001b[0m 2ms/step - Accuracy: 0.7977 - loss: 0.4972 - val_Accuracy: 0.7975 - val_loss: 0.4960\n",
      "Epoch 99/100\n",
      "\u001b[1m128/128\u001b[0m \u001b[32m━━━━━━━━━━━━━━━━━━━━\u001b[0m\u001b[37m\u001b[0m \u001b[1m0s\u001b[0m 2ms/step - Accuracy: 0.7948 - loss: 0.4981 - val_Accuracy: 0.7975 - val_loss: 0.4960\n",
      "Epoch 100/100\n",
      "\u001b[1m128/128\u001b[0m \u001b[32m━━━━━━━━━━━━━━━━━━━━\u001b[0m\u001b[37m\u001b[0m \u001b[1m0s\u001b[0m 2ms/step - Accuracy: 0.7999 - loss: 0.4944 - val_Accuracy: 0.7975 - val_loss: 0.4960\n"
     ]
    }
   ],
   "source": [
    "# history = model.fit(X_trained_scaled,y_train,epochs =100,validation_split=0.2)\n",
    "#improve\n",
    "history = model.fit(X_train,y_train,batch_size=50,epochs=100,verbose=1,validation_split=0.2)"
   ]
  },
  {
   "cell_type": "markdown",
   "id": "8ee785a4",
   "metadata": {
    "papermill": {
     "duration": 0.051221,
     "end_time": "2025-06-19T08:43:32.036089",
     "exception": false,
     "start_time": "2025-06-19T08:43:31.984868",
     "status": "completed"
    },
    "tags": []
   },
   "source": [
    "### training ka loss incerasekrna chahiye, loss km  also validation mai nhi to overfitting ho jaayega agr bs training acc is increases"
   ]
  },
  {
   "cell_type": "code",
   "execution_count": 28,
   "id": "28919885",
   "metadata": {
    "execution": {
     "iopub.execute_input": "2025-06-19T08:43:32.136158Z",
     "iopub.status.busy": "2025-06-19T08:43:32.135754Z",
     "iopub.status.idle": "2025-06-19T08:43:32.149873Z",
     "shell.execute_reply": "2025-06-19T08:43:32.148846Z"
    },
    "papermill": {
     "duration": 0.066658,
     "end_time": "2025-06-19T08:43:32.152024",
     "exception": false,
     "start_time": "2025-06-19T08:43:32.085366",
     "status": "completed"
    },
    "tags": []
   },
   "outputs": [
    {
     "data": {
      "text/plain": [
       "[array([[ 3.48877788e-01, -2.73409188e-01,  4.70969409e-01,\n",
       "         -2.77889967e-01, -3.19054037e-01, -3.31835449e-02,\n",
       "          1.41656339e-01,  3.67436826e-01,  3.72019738e-01,\n",
       "          8.87985826e-02, -3.18285683e-03],\n",
       "        [ 1.08133651e-01,  2.63516158e-01, -2.92243809e-01,\n",
       "          2.14237556e-01, -7.83562437e-02, -4.50009167e-01,\n",
       "         -4.44880605e-01,  5.58418036e-03, -7.16547593e-02,\n",
       "         -4.24294114e-01,  2.19329908e-01],\n",
       "        [ 1.82507232e-01, -2.49217302e-01,  7.53204226e-02,\n",
       "          3.36336970e-01, -3.70761119e-02,  1.58328354e-01,\n",
       "         -3.88728321e-01, -5.79023361e-03,  2.20230713e-01,\n",
       "         -4.81959045e-01, -7.92845413e-02],\n",
       "        [ 3.42836650e-03, -4.73693222e-01, -3.37091267e-01,\n",
       "         -4.20369416e-01, -7.22059086e-02, -2.03315556e-01,\n",
       "          4.34224904e-01, -5.13605297e-01, -2.43742347e-01,\n",
       "         -3.71296883e-01, -2.40083522e-04],\n",
       "        [-2.48544648e-01, -4.18328941e-01, -3.25440794e-01,\n",
       "          2.08220541e-01, -3.53049636e-01,  5.68079352e-02,\n",
       "          3.97978187e-01, -5.31108677e-02, -2.74528284e-02,\n",
       "          4.30258155e-01, -5.02754867e-01],\n",
       "        [ 4.92324680e-02,  4.74086761e-01, -1.50022700e-01,\n",
       "          6.73335016e-01,  2.63980657e-01, -4.51838970e-01,\n",
       "          1.92323327e-02,  4.48153973e-01, -3.38090628e-01,\n",
       "          1.12504184e-01,  1.19588241e-01],\n",
       "        [ 5.44566393e-01,  1.32756233e-01, -4.49010849e-01,\n",
       "         -1.09227866e-01,  3.55672777e-01,  4.09763753e-01,\n",
       "          4.25802290e-01, -1.97296619e-01,  4.54128861e-01,\n",
       "          3.20518613e-02, -1.92246079e-01],\n",
       "        [ 5.06071486e-02,  4.08133715e-01, -5.17173588e-01,\n",
       "          1.80399656e-01,  3.79293591e-01, -4.85552162e-01,\n",
       "          4.41783249e-01,  2.10148096e-03, -4.59554821e-01,\n",
       "          2.02695131e-01, -1.44804358e-01],\n",
       "        [-3.55357140e-01,  1.28100038e-01,  4.98357952e-01,\n",
       "          3.33181143e-01,  3.44981849e-01, -9.42615569e-02,\n",
       "          1.67279959e-01,  5.18043101e-01,  1.47665918e-01,\n",
       "         -3.76679718e-01,  9.25882161e-02],\n",
       "        [ 4.71822888e-01, -3.92346203e-01,  1.84773073e-01,\n",
       "         -2.65704334e-01, -2.49376789e-01, -4.47172821e-02,\n",
       "         -1.56311780e-01,  1.86730206e-01, -1.95397526e-01,\n",
       "         -4.52549279e-01, -2.09384888e-01],\n",
       "        [ 4.05495673e-01, -1.80223584e-02,  3.42701793e-01,\n",
       "          2.62279689e-01,  8.56991783e-02, -1.98265910e-02,\n",
       "         -1.55249566e-01,  6.10219836e-02, -3.02822888e-01,\n",
       "          2.04706311e-01,  2.74922829e-02]], dtype=float32),\n",
       " array([ 8.4821612e-02, -6.0465986e-08,  1.7788407e-04,  1.9688375e-01,\n",
       "         1.1741223e-01,  0.0000000e+00,  0.0000000e+00,  0.0000000e+00,\n",
       "         2.6519749e-02, -1.0175736e-28, -1.0048456e-01], dtype=float32)]"
      ]
     },
     "execution_count": 28,
     "metadata": {},
     "output_type": "execute_result"
    }
   ],
   "source": [
    "model.layers[0].get_weights() #show 33 weights +3 bias for 1layer  "
   ]
  },
  {
   "cell_type": "code",
   "execution_count": 29,
   "id": "4a1fd5d9",
   "metadata": {
    "execution": {
     "iopub.execute_input": "2025-06-19T08:43:32.263726Z",
     "iopub.status.busy": "2025-06-19T08:43:32.263067Z",
     "iopub.status.idle": "2025-06-19T08:43:32.271835Z",
     "shell.execute_reply": "2025-06-19T08:43:32.270932Z"
    },
    "papermill": {
     "duration": 0.077534,
     "end_time": "2025-06-19T08:43:32.273470",
     "exception": false,
     "start_time": "2025-06-19T08:43:32.195936",
     "status": "completed"
    },
    "tags": []
   },
   "outputs": [
    {
     "data": {
      "text/plain": [
       "[array([[-0.33516362, -0.46761572,  0.02699392,  0.12916228, -0.31576532,\n",
       "         -0.4571421 , -0.27044514, -0.08895902,  0.37562388,  0.16207998,\n",
       "          0.32701185],\n",
       "        [-0.3215887 ,  0.08992661, -0.23376967, -0.13194679, -0.07476679,\n",
       "          0.2850639 , -0.5627475 , -0.37401655, -0.41467986,  0.05713133,\n",
       "          0.01332113],\n",
       "        [-0.21202296,  0.02730181, -0.34132165, -0.5210371 , -0.29747796,\n",
       "         -0.24678674, -0.42174804, -0.21843576,  0.1529569 ,  0.14321932,\n",
       "          0.11446185],\n",
       "        [-0.16351806,  0.5871735 , -0.16510637, -0.11260808,  0.00582889,\n",
       "         -0.27712125,  0.43255833,  0.17058565, -0.03491348,  0.18435524,\n",
       "          0.2937088 ],\n",
       "        [ 0.39983782, -0.34598088,  0.22941007, -0.5867555 ,  0.0802646 ,\n",
       "          0.4215889 ,  0.27647272,  0.5985309 ,  0.06864067,  0.05559077,\n",
       "          0.46710816],\n",
       "        [ 0.44210964,  0.03943223,  0.19146496,  0.2200979 , -0.4422543 ,\n",
       "         -0.24794194,  0.46332175,  0.1801526 ,  0.20808989,  0.1643402 ,\n",
       "         -0.17847866],\n",
       "        [-0.39832136, -0.2600085 ,  0.11059523, -0.48991147,  0.08600031,\n",
       "         -0.47220427,  0.3385654 , -0.32169726,  0.13192928, -0.37600002,\n",
       "          0.55592006],\n",
       "        [-0.7191518 ,  0.9467651 ,  0.0250593 ,  0.04074219,  0.2193513 ,\n",
       "         -0.8140582 ,  0.9289558 ,  0.8985278 ,  0.94178456,  0.2589794 ,\n",
       "         -0.02884023],\n",
       "        [-0.39200693,  1.2165695 , -0.9642343 , -0.59687114,  1.0966351 ,\n",
       "         -0.81455463,  1.0366893 ,  1.038169  ,  0.6456641 ,  1.034204  ,\n",
       "          0.9207222 ],\n",
       "        [-0.31621358, -0.02526126, -0.4639505 , -0.6430663 ,  0.621464  ,\n",
       "         -0.09823199, -0.2927058 , -0.32752565,  0.38070336, -0.24968137,\n",
       "          0.08539616],\n",
       "        [ 0.40453735,  0.30161563,  0.31599808,  0.18906316,  0.39133853,\n",
       "          0.17460132,  0.32531714, -0.01690792, -0.01168706, -0.32663167,\n",
       "         -0.3157057 ]], dtype=float32),\n",
       " array([-0.12977166,  0.06945609, -0.11742982, -0.13667598,  0.08204202,\n",
       "        -0.04015483, -0.07442477,  0.06976708, -0.0066841 ,  0.09249032,\n",
       "         0.11799155], dtype=float32)]"
      ]
     },
     "execution_count": 29,
     "metadata": {},
     "output_type": "execute_result"
    }
   ],
   "source": [
    "model.layers[1].get_weights() #show 3 weights and 1 bias for 2layer  "
   ]
  },
  {
   "cell_type": "code",
   "execution_count": 30,
   "id": "032cca2a",
   "metadata": {
    "execution": {
     "iopub.execute_input": "2025-06-19T08:43:32.369476Z",
     "iopub.status.busy": "2025-06-19T08:43:32.369063Z",
     "iopub.status.idle": "2025-06-19T08:43:32.679262Z",
     "shell.execute_reply": "2025-06-19T08:43:32.678215Z"
    },
    "papermill": {
     "duration": 0.357622,
     "end_time": "2025-06-19T08:43:32.681327",
     "exception": false,
     "start_time": "2025-06-19T08:43:32.323705",
     "status": "completed"
    },
    "tags": []
   },
   "outputs": [
    {
     "name": "stdout",
     "output_type": "stream",
     "text": [
      "\u001b[1m63/63\u001b[0m \u001b[32m━━━━━━━━━━━━━━━━━━━━\u001b[0m\u001b[37m\u001b[0m \u001b[1m0s\u001b[0m 2ms/step\n"
     ]
    }
   ],
   "source": [
    "y_log=model.predict(X_test_scaled)"
   ]
  },
  {
   "cell_type": "code",
   "execution_count": 31,
   "id": "cfe0999f",
   "metadata": {
    "execution": {
     "iopub.execute_input": "2025-06-19T08:43:32.779142Z",
     "iopub.status.busy": "2025-06-19T08:43:32.778074Z",
     "iopub.status.idle": "2025-06-19T08:43:32.783378Z",
     "shell.execute_reply": "2025-06-19T08:43:32.782376Z"
    },
    "papermill": {
     "duration": 0.052068,
     "end_time": "2025-06-19T08:43:32.785016",
     "exception": false,
     "start_time": "2025-06-19T08:43:32.732948",
     "status": "completed"
    },
    "tags": []
   },
   "outputs": [],
   "source": [
    "#let threshold is 0.5 , wese hum ROC se nikalate hai\n",
    "y_pred = np.where(y_log>0.5 , 1, 0)\n",
    "\n",
    "\n"
   ]
  },
  {
   "cell_type": "code",
   "execution_count": 32,
   "id": "94d771c5",
   "metadata": {
    "execution": {
     "iopub.execute_input": "2025-06-19T08:43:32.873981Z",
     "iopub.status.busy": "2025-06-19T08:43:32.873591Z",
     "iopub.status.idle": "2025-06-19T08:43:32.882096Z",
     "shell.execute_reply": "2025-06-19T08:43:32.881440Z"
    },
    "papermill": {
     "duration": 0.054671,
     "end_time": "2025-06-19T08:43:32.883626",
     "exception": false,
     "start_time": "2025-06-19T08:43:32.828955",
     "status": "completed"
    },
    "tags": []
   },
   "outputs": [
    {
     "data": {
      "text/plain": [
       "0.7925"
      ]
     },
     "execution_count": 32,
     "metadata": {},
     "output_type": "execute_result"
    }
   ],
   "source": [
    "from sklearn.metrics import accuracy_score\n",
    "accuracy_score(y_test,y_pred)\n"
   ]
  },
  {
   "cell_type": "markdown",
   "id": "b365fd09",
   "metadata": {
    "papermill": {
     "duration": 0.043531,
     "end_time": "2025-06-19T08:43:32.970468",
     "exception": false,
     "start_time": "2025-06-19T08:43:32.926937",
     "status": "completed"
    },
    "tags": []
   },
   "source": [
    "Here are the **top 8 most effective ways** to improve accuracy in a **basic deep learning model**:\n",
    "\n",
    "---\n",
    "\n",
    "### ✅ **Top 8 Tips to Increase Accuracy in Deep Learning**\n",
    "\n",
    "1. **Collect More Data**\n",
    "   → More training examples help the model generalize better.\n",
    "\n",
    "2. **Feature Scaling (Normalization/Standardization)**\n",
    "   → Scale input features using `MinMaxScaler` or `StandardScaler` to speed up and stabilize learning.\n",
    "\n",
    "3. **Add More Layers or Neurons**\n",
    "   → A deeper or wider network can learn more complex patterns.\n",
    "\n",
    "4. **Use a Better Optimizer (Adam > SGD)**\n",
    "   → Use `Adam` for faster and more stable convergence.\n",
    "\n",
    "5. **Use Dropout for Regularization**\n",
    "   → Prevent overfitting by randomly disabling neurons during training.\n",
    "\n",
    "6. **Use Batch Normalization**\n",
    "   → Normalizes layer outputs, improves stability and training speed.\n",
    "\n",
    "7. **Train for More Epochs (With Early Stopping)**\n",
    "   → Allow the model to learn more, but stop when validation loss stops improving.\n",
    "\n",
    "8. **Hyperparameter Tuning**\n",
    "   → Experiment with learning rate, batch size, layers, units, activation functions.\n",
    "\n",
    "   \n",
    "10. **Use Better Activation Functions**\n",
    "    → Use ReLU, LeakyReLU in hidden layers; softmax/sigmoid in output.\n",
    "\n",
    "\n",
    "---\n",
    "\n",
    "Let me know if you'd like code examples for any of these.\n"
   ]
  },
  {
   "cell_type": "code",
   "execution_count": 33,
   "id": "d18ee31b",
   "metadata": {
    "execution": {
     "iopub.execute_input": "2025-06-19T08:43:33.058150Z",
     "iopub.status.busy": "2025-06-19T08:43:33.057769Z",
     "iopub.status.idle": "2025-06-19T08:43:33.062466Z",
     "shell.execute_reply": "2025-06-19T08:43:33.061622Z"
    },
    "papermill": {
     "duration": 0.050388,
     "end_time": "2025-06-19T08:43:33.063961",
     "exception": false,
     "start_time": "2025-06-19T08:43:33.013573",
     "status": "completed"
    },
    "tags": []
   },
   "outputs": [],
   "source": [
    "import matplotlib.pyplot as plt"
   ]
  },
  {
   "cell_type": "code",
   "execution_count": 34,
   "id": "37870592",
   "metadata": {
    "execution": {
     "iopub.execute_input": "2025-06-19T08:43:33.153303Z",
     "iopub.status.busy": "2025-06-19T08:43:33.152915Z",
     "iopub.status.idle": "2025-06-19T08:43:33.163575Z",
     "shell.execute_reply": "2025-06-19T08:43:33.162707Z"
    },
    "papermill": {
     "duration": 0.057519,
     "end_time": "2025-06-19T08:43:33.165187",
     "exception": false,
     "start_time": "2025-06-19T08:43:33.107668",
     "status": "completed"
    },
    "tags": []
   },
   "outputs": [
    {
     "data": {
      "text/plain": [
       "{'Accuracy': [0.7971875071525574,\n",
       "  0.7971875071525574,\n",
       "  0.7971875071525574,\n",
       "  0.7971875071525574,\n",
       "  0.7971875071525574,\n",
       "  0.7971875071525574,\n",
       "  0.7971875071525574,\n",
       "  0.7971875071525574,\n",
       "  0.7971875071525574,\n",
       "  0.7971875071525574,\n",
       "  0.7971875071525574,\n",
       "  0.7971875071525574,\n",
       "  0.7971875071525574,\n",
       "  0.7971875071525574,\n",
       "  0.7971875071525574,\n",
       "  0.7971875071525574,\n",
       "  0.7971875071525574,\n",
       "  0.7971875071525574,\n",
       "  0.7971875071525574,\n",
       "  0.7971875071525574,\n",
       "  0.7971875071525574,\n",
       "  0.7971875071525574,\n",
       "  0.7971875071525574,\n",
       "  0.7971875071525574,\n",
       "  0.7971875071525574,\n",
       "  0.7971875071525574,\n",
       "  0.7971875071525574,\n",
       "  0.7971875071525574,\n",
       "  0.7971875071525574,\n",
       "  0.7971875071525574,\n",
       "  0.7971875071525574,\n",
       "  0.7971875071525574,\n",
       "  0.7971875071525574,\n",
       "  0.7971875071525574,\n",
       "  0.7971875071525574,\n",
       "  0.7971875071525574,\n",
       "  0.7971875071525574,\n",
       "  0.7971875071525574,\n",
       "  0.7971875071525574,\n",
       "  0.7971875071525574,\n",
       "  0.7971875071525574,\n",
       "  0.7971875071525574,\n",
       "  0.7971875071525574,\n",
       "  0.7971875071525574,\n",
       "  0.7971875071525574,\n",
       "  0.7971875071525574,\n",
       "  0.7971875071525574,\n",
       "  0.7971875071525574,\n",
       "  0.7971875071525574,\n",
       "  0.7971875071525574,\n",
       "  0.7971875071525574,\n",
       "  0.7971875071525574,\n",
       "  0.7971875071525574,\n",
       "  0.7971875071525574,\n",
       "  0.7971875071525574,\n",
       "  0.7971875071525574,\n",
       "  0.7971875071525574,\n",
       "  0.7971875071525574,\n",
       "  0.7971875071525574,\n",
       "  0.7971875071525574,\n",
       "  0.7971875071525574,\n",
       "  0.7971875071525574,\n",
       "  0.7971875071525574,\n",
       "  0.7971875071525574,\n",
       "  0.7971875071525574,\n",
       "  0.7971875071525574,\n",
       "  0.7971875071525574,\n",
       "  0.7971875071525574,\n",
       "  0.7971875071525574,\n",
       "  0.7971875071525574,\n",
       "  0.7971875071525574,\n",
       "  0.7971875071525574,\n",
       "  0.7971875071525574,\n",
       "  0.7971875071525574,\n",
       "  0.7971875071525574,\n",
       "  0.7971875071525574,\n",
       "  0.7971875071525574,\n",
       "  0.7971875071525574,\n",
       "  0.7971875071525574,\n",
       "  0.7971875071525574,\n",
       "  0.7971875071525574,\n",
       "  0.7971875071525574,\n",
       "  0.7971875071525574,\n",
       "  0.7971875071525574,\n",
       "  0.7971875071525574,\n",
       "  0.7971875071525574,\n",
       "  0.7971875071525574,\n",
       "  0.7971875071525574,\n",
       "  0.7971875071525574,\n",
       "  0.7971875071525574,\n",
       "  0.7971875071525574,\n",
       "  0.7971875071525574,\n",
       "  0.7971875071525574,\n",
       "  0.7971875071525574,\n",
       "  0.7971875071525574,\n",
       "  0.7971875071525574,\n",
       "  0.7971875071525574,\n",
       "  0.7971875071525574,\n",
       "  0.7971875071525574,\n",
       "  0.7971875071525574],\n",
       " 'loss': [0.5486729145050049,\n",
       "  0.5005666613578796,\n",
       "  0.49882933497428894,\n",
       "  0.49845069646835327,\n",
       "  0.49821266531944275,\n",
       "  0.4979337453842163,\n",
       "  0.4975947439670563,\n",
       "  0.49726539850234985,\n",
       "  0.49723026156425476,\n",
       "  0.49705901741981506,\n",
       "  0.4969632625579834,\n",
       "  0.49685463309288025,\n",
       "  0.4967883229255676,\n",
       "  0.4966856837272644,\n",
       "  0.49676841497421265,\n",
       "  0.49668627977371216,\n",
       "  0.49659159779548645,\n",
       "  0.49664944410324097,\n",
       "  0.49660345911979675,\n",
       "  0.49650055170059204,\n",
       "  0.49656176567077637,\n",
       "  0.4966035783290863,\n",
       "  0.496446430683136,\n",
       "  0.4965061545372009,\n",
       "  0.4965035617351532,\n",
       "  0.49653080105781555,\n",
       "  0.49645066261291504,\n",
       "  0.4965011179447174,\n",
       "  0.4965313673019409,\n",
       "  0.49658480286598206,\n",
       "  0.4965493381023407,\n",
       "  0.49650534987449646,\n",
       "  0.49650347232818604,\n",
       "  0.4965497553348541,\n",
       "  0.49648457765579224,\n",
       "  0.4964967668056488,\n",
       "  0.49639537930488586,\n",
       "  0.4963749051094055,\n",
       "  0.4964198172092438,\n",
       "  0.49636948108673096,\n",
       "  0.49644631147384644,\n",
       "  0.4963720738887787,\n",
       "  0.496541291475296,\n",
       "  0.4964359998703003,\n",
       "  0.4965372383594513,\n",
       "  0.49652138352394104,\n",
       "  0.4965108633041382,\n",
       "  0.4966098368167877,\n",
       "  0.49664774537086487,\n",
       "  0.49664106965065,\n",
       "  0.4965698719024658,\n",
       "  0.49673157930374146,\n",
       "  0.4965270161628723,\n",
       "  0.49667227268218994,\n",
       "  0.49667587876319885,\n",
       "  0.4968307912349701,\n",
       "  0.49653568863868713,\n",
       "  0.496563196182251,\n",
       "  0.4965493381023407,\n",
       "  0.49667659401893616,\n",
       "  0.496652752161026,\n",
       "  0.49652203917503357,\n",
       "  0.4966335594654083,\n",
       "  0.4966074228286743,\n",
       "  0.49648526310920715,\n",
       "  0.49648621678352356,\n",
       "  0.4965795576572418,\n",
       "  0.4965988099575043,\n",
       "  0.49655604362487793,\n",
       "  0.4966377019882202,\n",
       "  0.49642300605773926,\n",
       "  0.49647703766822815,\n",
       "  0.4967176020145416,\n",
       "  0.49648964405059814,\n",
       "  0.49666091799736023,\n",
       "  0.49652522802352905,\n",
       "  0.4966113567352295,\n",
       "  0.496494323015213,\n",
       "  0.4964981973171234,\n",
       "  0.4967191219329834,\n",
       "  0.4964525103569031,\n",
       "  0.4966284930706024,\n",
       "  0.4966691732406616,\n",
       "  0.49659767746925354,\n",
       "  0.4965446889400482,\n",
       "  0.4966869354248047,\n",
       "  0.49655014276504517,\n",
       "  0.49660709500312805,\n",
       "  0.49657654762268066,\n",
       "  0.4965065121650696,\n",
       "  0.4965953826904297,\n",
       "  0.4966734051704407,\n",
       "  0.4966839551925659,\n",
       "  0.4965478181838989,\n",
       "  0.4966561198234558,\n",
       "  0.4965367615222931,\n",
       "  0.49660834670066833,\n",
       "  0.4966868460178375,\n",
       "  0.4964860677719116,\n",
       "  0.49664172530174255],\n",
       " 'val_Accuracy': [0.7975000143051147,\n",
       "  0.7975000143051147,\n",
       "  0.7975000143051147,\n",
       "  0.7975000143051147,\n",
       "  0.7975000143051147,\n",
       "  0.7975000143051147,\n",
       "  0.7975000143051147,\n",
       "  0.7975000143051147,\n",
       "  0.7975000143051147,\n",
       "  0.7975000143051147,\n",
       "  0.7975000143051147,\n",
       "  0.7975000143051147,\n",
       "  0.7975000143051147,\n",
       "  0.7975000143051147,\n",
       "  0.7975000143051147,\n",
       "  0.7975000143051147,\n",
       "  0.7975000143051147,\n",
       "  0.7975000143051147,\n",
       "  0.7975000143051147,\n",
       "  0.7975000143051147,\n",
       "  0.7975000143051147,\n",
       "  0.7975000143051147,\n",
       "  0.7975000143051147,\n",
       "  0.7975000143051147,\n",
       "  0.7975000143051147,\n",
       "  0.7975000143051147,\n",
       "  0.7975000143051147,\n",
       "  0.7975000143051147,\n",
       "  0.7975000143051147,\n",
       "  0.7975000143051147,\n",
       "  0.7975000143051147,\n",
       "  0.7975000143051147,\n",
       "  0.7975000143051147,\n",
       "  0.7975000143051147,\n",
       "  0.7975000143051147,\n",
       "  0.7975000143051147,\n",
       "  0.7975000143051147,\n",
       "  0.7975000143051147,\n",
       "  0.7975000143051147,\n",
       "  0.7975000143051147,\n",
       "  0.7975000143051147,\n",
       "  0.7975000143051147,\n",
       "  0.7975000143051147,\n",
       "  0.7975000143051147,\n",
       "  0.7975000143051147,\n",
       "  0.7975000143051147,\n",
       "  0.7975000143051147,\n",
       "  0.7975000143051147,\n",
       "  0.7975000143051147,\n",
       "  0.7975000143051147,\n",
       "  0.7975000143051147,\n",
       "  0.7975000143051147,\n",
       "  0.7975000143051147,\n",
       "  0.7975000143051147,\n",
       "  0.7975000143051147,\n",
       "  0.7975000143051147,\n",
       "  0.7975000143051147,\n",
       "  0.7975000143051147,\n",
       "  0.7975000143051147,\n",
       "  0.7975000143051147,\n",
       "  0.7975000143051147,\n",
       "  0.7975000143051147,\n",
       "  0.7975000143051147,\n",
       "  0.7975000143051147,\n",
       "  0.7975000143051147,\n",
       "  0.7975000143051147,\n",
       "  0.7975000143051147,\n",
       "  0.7975000143051147,\n",
       "  0.7975000143051147,\n",
       "  0.7975000143051147,\n",
       "  0.7975000143051147,\n",
       "  0.7975000143051147,\n",
       "  0.7975000143051147,\n",
       "  0.7975000143051147,\n",
       "  0.7975000143051147,\n",
       "  0.7975000143051147,\n",
       "  0.7975000143051147,\n",
       "  0.7975000143051147,\n",
       "  0.7975000143051147,\n",
       "  0.7975000143051147,\n",
       "  0.7975000143051147,\n",
       "  0.7975000143051147,\n",
       "  0.7975000143051147,\n",
       "  0.7975000143051147,\n",
       "  0.7975000143051147,\n",
       "  0.7975000143051147,\n",
       "  0.7975000143051147,\n",
       "  0.7975000143051147,\n",
       "  0.7975000143051147,\n",
       "  0.7975000143051147,\n",
       "  0.7975000143051147,\n",
       "  0.7975000143051147,\n",
       "  0.7975000143051147,\n",
       "  0.7975000143051147,\n",
       "  0.7975000143051147,\n",
       "  0.7975000143051147,\n",
       "  0.7975000143051147,\n",
       "  0.7975000143051147,\n",
       "  0.7975000143051147,\n",
       "  0.7975000143051147],\n",
       " 'val_loss': [0.5043635964393616,\n",
       "  0.4979022145271301,\n",
       "  0.49731552600860596,\n",
       "  0.4973418414592743,\n",
       "  0.4971329867839813,\n",
       "  0.4964931607246399,\n",
       "  0.49626675248146057,\n",
       "  0.4961874485015869,\n",
       "  0.4960043728351593,\n",
       "  0.4959884285926819,\n",
       "  0.49595165252685547,\n",
       "  0.49597251415252686,\n",
       "  0.49597376585006714,\n",
       "  0.49589747190475464,\n",
       "  0.4958754777908325,\n",
       "  0.4958607852458954,\n",
       "  0.4958875775337219,\n",
       "  0.4959058463573456,\n",
       "  0.4960104823112488,\n",
       "  0.4958636164665222,\n",
       "  0.49591463804244995,\n",
       "  0.49582770466804504,\n",
       "  0.4959368407726288,\n",
       "  0.4957062602043152,\n",
       "  0.4957179129123688,\n",
       "  0.4958369731903076,\n",
       "  0.49569740891456604,\n",
       "  0.4956783056259155,\n",
       "  0.4956870973110199,\n",
       "  0.49570873379707336,\n",
       "  0.4956977963447571,\n",
       "  0.4956745505332947,\n",
       "  0.495836079120636,\n",
       "  0.4958086907863617,\n",
       "  0.4957942068576813,\n",
       "  0.4958503246307373,\n",
       "  0.4957747161388397,\n",
       "  0.49590423703193665,\n",
       "  0.4957584738731384,\n",
       "  0.4958648383617401,\n",
       "  0.4959286153316498,\n",
       "  0.4962707459926605,\n",
       "  0.49592727422714233,\n",
       "  0.4961813986301422,\n",
       "  0.496219664812088,\n",
       "  0.496196448802948,\n",
       "  0.4961276352405548,\n",
       "  0.4960656762123108,\n",
       "  0.4960764944553375,\n",
       "  0.496064156293869,\n",
       "  0.49613720178604126,\n",
       "  0.49605533480644226,\n",
       "  0.49608200788497925,\n",
       "  0.4961111843585968,\n",
       "  0.4960585832595825,\n",
       "  0.4960583746433258,\n",
       "  0.49605563282966614,\n",
       "  0.4960592985153198,\n",
       "  0.49614983797073364,\n",
       "  0.4960508644580841,\n",
       "  0.49605801701545715,\n",
       "  0.49624374508857727,\n",
       "  0.49614906311035156,\n",
       "  0.4962230622768402,\n",
       "  0.4961546063423157,\n",
       "  0.49633458256721497,\n",
       "  0.49614840745925903,\n",
       "  0.49601662158966064,\n",
       "  0.4963108003139496,\n",
       "  0.49605685472488403,\n",
       "  0.49640509486198425,\n",
       "  0.49613991379737854,\n",
       "  0.49589279294013977,\n",
       "  0.49621090292930603,\n",
       "  0.4959322214126587,\n",
       "  0.49587416648864746,\n",
       "  0.4958820343017578,\n",
       "  0.49587777256965637,\n",
       "  0.49588602781295776,\n",
       "  0.4957994222640991,\n",
       "  0.49589452147483826,\n",
       "  0.4957907199859619,\n",
       "  0.4958075284957886,\n",
       "  0.49587565660476685,\n",
       "  0.49589356780052185,\n",
       "  0.4957802891731262,\n",
       "  0.4957868456840515,\n",
       "  0.4957686960697174,\n",
       "  0.4957807958126068,\n",
       "  0.49577081203460693,\n",
       "  0.49580878019332886,\n",
       "  0.49579867720603943,\n",
       "  0.49578857421875,\n",
       "  0.49579280614852905,\n",
       "  0.49579277634620667,\n",
       "  0.49578800797462463,\n",
       "  0.4959583282470703,\n",
       "  0.4959895610809326,\n",
       "  0.4960240125656128,\n",
       "  0.4960015118122101]}"
      ]
     },
     "execution_count": 34,
     "metadata": {},
     "output_type": "execute_result"
    }
   ],
   "source": [
    "history.history"
   ]
  },
  {
   "cell_type": "code",
   "execution_count": 35,
   "id": "e01e0fc6",
   "metadata": {
    "execution": {
     "iopub.execute_input": "2025-06-19T08:43:33.256348Z",
     "iopub.status.busy": "2025-06-19T08:43:33.255959Z",
     "iopub.status.idle": "2025-06-19T08:43:33.507117Z",
     "shell.execute_reply": "2025-06-19T08:43:33.506110Z"
    },
    "papermill": {
     "duration": 0.299193,
     "end_time": "2025-06-19T08:43:33.509165",
     "exception": false,
     "start_time": "2025-06-19T08:43:33.209972",
     "status": "completed"
    },
    "tags": []
   },
   "outputs": [
    {
     "data": {
      "text/plain": [
       "[<matplotlib.lines.Line2D at 0x7862a81aaa10>]"
      ]
     },
     "execution_count": 35,
     "metadata": {},
     "output_type": "execute_result"
    },
    {
     "data": {
      "image/png": "[encoded data removed]",
      "text/plain": [
       "<Figure size 640x480 with 1 Axes>"
      ]
     },
     "metadata": {},
     "output_type": "display_data"
    }
   ],
   "source": [
    "plt.plot(history.history['loss'])\n",
    "plt.plot(history.history['val_loss'])"
   ]
  },
  {
   "cell_type": "code",
   "execution_count": 36,
   "id": "46f1ca22",
   "metadata": {
    "execution": {
     "iopub.execute_input": "2025-06-19T08:43:33.602790Z",
     "iopub.status.busy": "2025-06-19T08:43:33.601922Z",
     "iopub.status.idle": "2025-06-19T08:43:33.760362Z",
     "shell.execute_reply": "2025-06-19T08:43:33.759326Z"
    },
    "papermill": {
     "duration": 0.205699,
     "end_time": "2025-06-19T08:43:33.761921",
     "exception": false,
     "start_time": "2025-06-19T08:43:33.556222",
     "status": "completed"
    },
    "tags": []
   },
   "outputs": [
    {
     "data": {
      "text/plain": [
       "[<matplotlib.lines.Line2D at 0x78630e4ed010>]"
      ]
     },
     "execution_count": 36,
     "metadata": {},
     "output_type": "execute_result"
    },
    {
     "data": {
      "image/png": "[encoded data removed]",
      "text/plain": [
       "<Figure size 640x480 with 1 Axes>"
      ]
     },
     "metadata": {},
     "output_type": "display_data"
    }
   ],
   "source": [
    "plt.plot(history.history['Accuracy'])\n",
    "plt.plot(history.history['val_Accuracy'])"
   ]
  },
  {
   "cell_type": "code",
   "execution_count": null,
   "id": "ac942706",
   "metadata": {
    "papermill": {
     "duration": 0.044053,
     "end_time": "2025-06-19T08:43:33.851144",
     "exception": false,
     "start_time": "2025-06-19T08:43:33.807091",
     "status": "completed"
    },
    "tags": []
   },
   "outputs": [],
   "source": []
  },
  {
   "cell_type": "code",
   "execution_count": null,
   "id": "342e48c7",
   "metadata": {
    "papermill": {
     "duration": 0.044924,
     "end_time": "2025-06-19T08:43:33.940256",
     "exception": false,
     "start_time": "2025-06-19T08:43:33.895332",
     "status": "completed"
    },
    "tags": []
   },
   "outputs": [],
   "source": []
  },
  {
   "cell_type": "code",
   "execution_count": null,
   "id": "11976772",
   "metadata": {
    "papermill": {
     "duration": 0.044671,
     "end_time": "2025-06-19T08:43:34.030119",
     "exception": false,
     "start_time": "2025-06-19T08:43:33.985448",
     "status": "completed"
    },
    "tags": []
   },
   "outputs": [],
   "source": []
  },
  {
   "cell_type": "code",
   "execution_count": null,
   "id": "e9a42016",
   "metadata": {
    "papermill": {
     "duration": 0.044257,
     "end_time": "2025-06-19T08:43:34.119239",
     "exception": false,
     "start_time": "2025-06-19T08:43:34.074982",
     "status": "completed"
    },
    "tags": []
   },
   "outputs": [],
   "source": []
  },
  {
   "cell_type": "code",
   "execution_count": null,
   "id": "249af7c7",
   "metadata": {
    "papermill": {
     "duration": 0.04415,
     "end_time": "2025-06-19T08:43:34.208066",
     "exception": false,
     "start_time": "2025-06-19T08:43:34.163916",
     "status": "completed"
    },
    "tags": []
   },
   "outputs": [],
   "source": []
  },
  {
   "cell_type": "code",
   "execution_count": null,
   "id": "1a70b6bb",
   "metadata": {
    "papermill": {
     "duration": 0.04425,
     "end_time": "2025-06-19T08:43:34.298476",
     "exception": false,
     "start_time": "2025-06-19T08:43:34.254226",
     "status": "completed"
    },
    "tags": []
   },
   "outputs": [],
   "source": []
  }
 ],
 "metadata": {
  "kaggle": {
   "accelerator": "none",
   "dataSources": [
    {
     "datasetId": 869651,
     "sourceId": 1481789,
     "sourceType": "datasetVersion"
    }
   ],
   "dockerImageVersionId": 31040,
   "isGpuEnabled": false,
   "isInternetEnabled": false,
   "language": "python",
   "sourceType": "notebook"
  },
  "kernelspec": {
   "display_name": "Python 3",
   "language": "python",
   "name": "python3"
  },
  "language_info": {
   "codemirror_mode": {
    "name": "ipython",
    "version": 3
   },
   "file_extension": ".py",
   "mimetype": "text/x-python",
   "name": "python",
   "nbconvert_exporter": "python",
   "pygments_lexer": "ipython3",
   "version": "3.11.11"
  },
  "papermill": {
   "default_parameters": {},
   "duration": 67.194848,
   "end_time": "2025-06-19T08:43:37.248653",
   "environment_variables": {},
   "exception": null,
   "input_path": "__notebook__.ipynb",
   "output_path": "__notebook__.ipynb",
   "parameters": {},
   "start_time": "2025-06-19T08:42:30.053805",
   "version": "2.6.0"
  }
 },
 "nbformat": 4,
 "nbformat_minor": 5
}
